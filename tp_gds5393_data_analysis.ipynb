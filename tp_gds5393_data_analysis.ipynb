{
 "cells": [
  {
   "cell_type": "markdown",
   "id": "dfbd5c97-b9a0-48a8-9ae2-d25f350e3117",
   "metadata": {},
   "source": [
    "# Bipolar disorder and response to lithium: blood\n",
    "\n",
    "Dataset Files: \n",
    "* gds5393.csv \n",
    "* meta-gds5393.csv\n",
    "\n",
    "**Introdução**\n",
    "\n",
    "Bipolar disorder is a mental condition characterized by highly variable mood episodes, with periods of euphoria or mania (known as manic episodes) alternating with periods of deep depression (known as depressive episodes). Treatment for bipolar disorder usually includes therapy and medication.\n",
    "\n",
    "One of the most common medications used to treat bipolar disorder is lithium. Lithium is a mineral that acts as a mood stabilizer and is effective in preventing manic and depressive episodes in people with bipolar disorder. It works by helping to balance the levels of certain chemicals in the brain called neurotransmitters, which are responsible for transmitting information between brain cells.\n",
    "\n",
    "\n",
    "**Summary**\n",
    "\n",
    "Analysis of peripheral blood from patients with bipolar disorder before and 1 month after lithium treatment. Response of patients to lithium assessed after 6 months. Results identify a gene expression signature for the response to lithium treatment in patients with bipolar disorder.\n",
    "\n",
    "This particular dataset, with 48107 rows and 120 columns, contains gene expression data from blood samples from patients with bipolar disorder and patients without bipolar disorder, some of whom were receiving lithium treatment and some who were not.\n",
    "The file meta-gds5393 contains class labels.\n"
   ]
  },
  {
   "cell_type": "markdown",
   "id": "59562678-a1c2-410a-a706-8e0ef12ec94c",
   "metadata": {
    "tags": []
   },
   "source": [
    "### 1. Carregamento e analise dos dados e metadados do dataset"
   ]
  },
  {
   "cell_type": "code",
   "execution_count": 1,
   "id": "b4f4a033-95b1-4a4d-80db-2da588029f95",
   "metadata": {},
   "outputs": [],
   "source": [
    "# Importar bibliotecas necessárias para o processamento\n",
    "import pandas as pd\n",
    "import numpy as np\n",
    "%matplotlib inline\n",
    "import matplotlib.pyplot as plt\n",
    "\n",
    "from scipy.cluster.hierarchy import dendrogram, linkage\n",
    "\n",
    "# Ler dados usando a lib pandas\n",
    "data = pd.read_csv(\"gds5393.csv\", sep=',', index_col = 0)\n",
    "meta = pd.read_csv(\"meta-gds5393.csv\", sep=',', index_col = 0)"
   ]
  },
  {
   "cell_type": "markdown",
   "id": "74caec21-2ca6-4217-92c4-80ef4d4adef4",
   "metadata": {},
   "source": [
    "**1.1 Descrição e caraterização dos dados do dataset**"
   ]
  },
  {
   "cell_type": "code",
   "execution_count": 2,
   "id": "a8094748-567f-4f86-981b-320e2cefa1ec",
   "metadata": {},
   "outputs": [
    {
     "data": {
      "text/html": [
       "<div>\n",
       "<style scoped>\n",
       "    .dataframe tbody tr th:only-of-type {\n",
       "        vertical-align: middle;\n",
       "    }\n",
       "\n",
       "    .dataframe tbody tr th {\n",
       "        vertical-align: top;\n",
       "    }\n",
       "\n",
       "    .dataframe thead th {\n",
       "        text-align: right;\n",
       "    }\n",
       "</style>\n",
       "<table border=\"1\" class=\"dataframe\">\n",
       "  <thead>\n",
       "    <tr style=\"text-align: right;\">\n",
       "      <th></th>\n",
       "      <th>GSM1105438</th>\n",
       "      <th>GSM1105486</th>\n",
       "      <th>GSM1105487</th>\n",
       "      <th>GSM1105490</th>\n",
       "      <th>GSM1105491</th>\n",
       "      <th>GSM1105495</th>\n",
       "      <th>GSM1105498</th>\n",
       "      <th>GSM1105499</th>\n",
       "      <th>GSM1105506</th>\n",
       "      <th>GSM1105442</th>\n",
       "      <th>...</th>\n",
       "      <th>GSM1105454</th>\n",
       "      <th>GSM1105468</th>\n",
       "      <th>GSM1105481</th>\n",
       "      <th>GSM1105504</th>\n",
       "      <th>GSM1105517</th>\n",
       "      <th>GSM1105525</th>\n",
       "      <th>GSM1105552</th>\n",
       "      <th>GSM1105452</th>\n",
       "      <th>GSM1105453</th>\n",
       "      <th>GSM1105456</th>\n",
       "    </tr>\n",
       "  </thead>\n",
       "  <tbody>\n",
       "    <tr>\n",
       "      <th>count</th>\n",
       "      <td>47323.000000</td>\n",
       "      <td>47323.000000</td>\n",
       "      <td>47323.000000</td>\n",
       "      <td>47323.000000</td>\n",
       "      <td>47323.000000</td>\n",
       "      <td>47323.000000</td>\n",
       "      <td>47323.000000</td>\n",
       "      <td>47323.000000</td>\n",
       "      <td>47323.000000</td>\n",
       "      <td>47323.000000</td>\n",
       "      <td>...</td>\n",
       "      <td>47323.000000</td>\n",
       "      <td>47323.000000</td>\n",
       "      <td>47323.000000</td>\n",
       "      <td>47323.000000</td>\n",
       "      <td>47323.000000</td>\n",
       "      <td>47323.000000</td>\n",
       "      <td>47323.000000</td>\n",
       "      <td>47323.000000</td>\n",
       "      <td>47323.000000</td>\n",
       "      <td>47323.000000</td>\n",
       "    </tr>\n",
       "    <tr>\n",
       "      <th>mean</th>\n",
       "      <td>7.468577</td>\n",
       "      <td>7.468577</td>\n",
       "      <td>7.468577</td>\n",
       "      <td>7.468577</td>\n",
       "      <td>7.468577</td>\n",
       "      <td>7.468577</td>\n",
       "      <td>7.468577</td>\n",
       "      <td>7.468577</td>\n",
       "      <td>7.468577</td>\n",
       "      <td>7.468577</td>\n",
       "      <td>...</td>\n",
       "      <td>7.468577</td>\n",
       "      <td>7.468577</td>\n",
       "      <td>7.468577</td>\n",
       "      <td>7.468577</td>\n",
       "      <td>7.468577</td>\n",
       "      <td>7.468577</td>\n",
       "      <td>7.468577</td>\n",
       "      <td>7.468577</td>\n",
       "      <td>7.468577</td>\n",
       "      <td>7.468577</td>\n",
       "    </tr>\n",
       "    <tr>\n",
       "      <th>std</th>\n",
       "      <td>1.287915</td>\n",
       "      <td>1.287915</td>\n",
       "      <td>1.287915</td>\n",
       "      <td>1.287915</td>\n",
       "      <td>1.287915</td>\n",
       "      <td>1.287915</td>\n",
       "      <td>1.287915</td>\n",
       "      <td>1.287915</td>\n",
       "      <td>1.287915</td>\n",
       "      <td>1.287915</td>\n",
       "      <td>...</td>\n",
       "      <td>1.287915</td>\n",
       "      <td>1.287915</td>\n",
       "      <td>1.287915</td>\n",
       "      <td>1.287915</td>\n",
       "      <td>1.287915</td>\n",
       "      <td>1.287915</td>\n",
       "      <td>1.287915</td>\n",
       "      <td>1.287915</td>\n",
       "      <td>1.287915</td>\n",
       "      <td>1.287915</td>\n",
       "    </tr>\n",
       "    <tr>\n",
       "      <th>min</th>\n",
       "      <td>6.419480</td>\n",
       "      <td>6.419480</td>\n",
       "      <td>6.419480</td>\n",
       "      <td>6.419480</td>\n",
       "      <td>6.419480</td>\n",
       "      <td>6.419480</td>\n",
       "      <td>6.419480</td>\n",
       "      <td>6.419480</td>\n",
       "      <td>6.419480</td>\n",
       "      <td>6.419480</td>\n",
       "      <td>...</td>\n",
       "      <td>6.419480</td>\n",
       "      <td>6.419480</td>\n",
       "      <td>6.419480</td>\n",
       "      <td>6.419480</td>\n",
       "      <td>6.419480</td>\n",
       "      <td>6.419480</td>\n",
       "      <td>6.419480</td>\n",
       "      <td>6.419480</td>\n",
       "      <td>6.419480</td>\n",
       "      <td>6.419480</td>\n",
       "    </tr>\n",
       "    <tr>\n",
       "      <th>25%</th>\n",
       "      <td>6.815735</td>\n",
       "      <td>6.815730</td>\n",
       "      <td>6.815735</td>\n",
       "      <td>6.815735</td>\n",
       "      <td>6.815735</td>\n",
       "      <td>6.815735</td>\n",
       "      <td>6.815735</td>\n",
       "      <td>6.815735</td>\n",
       "      <td>6.815730</td>\n",
       "      <td>6.815730</td>\n",
       "      <td>...</td>\n",
       "      <td>6.815735</td>\n",
       "      <td>6.815735</td>\n",
       "      <td>6.815735</td>\n",
       "      <td>6.815735</td>\n",
       "      <td>6.815730</td>\n",
       "      <td>6.815735</td>\n",
       "      <td>6.815735</td>\n",
       "      <td>6.815735</td>\n",
       "      <td>6.815735</td>\n",
       "      <td>6.815735</td>\n",
       "    </tr>\n",
       "    <tr>\n",
       "      <th>50%</th>\n",
       "      <td>6.940240</td>\n",
       "      <td>6.940240</td>\n",
       "      <td>6.940240</td>\n",
       "      <td>6.940240</td>\n",
       "      <td>6.940240</td>\n",
       "      <td>6.940230</td>\n",
       "      <td>6.940240</td>\n",
       "      <td>6.940240</td>\n",
       "      <td>6.940240</td>\n",
       "      <td>6.940240</td>\n",
       "      <td>...</td>\n",
       "      <td>6.940240</td>\n",
       "      <td>6.940230</td>\n",
       "      <td>6.940240</td>\n",
       "      <td>6.940240</td>\n",
       "      <td>6.940240</td>\n",
       "      <td>6.940240</td>\n",
       "      <td>6.940240</td>\n",
       "      <td>6.940240</td>\n",
       "      <td>6.940240</td>\n",
       "      <td>6.940240</td>\n",
       "    </tr>\n",
       "    <tr>\n",
       "      <th>75%</th>\n",
       "      <td>7.437960</td>\n",
       "      <td>7.437960</td>\n",
       "      <td>7.437960</td>\n",
       "      <td>7.437960</td>\n",
       "      <td>7.437960</td>\n",
       "      <td>7.437960</td>\n",
       "      <td>7.437960</td>\n",
       "      <td>7.437960</td>\n",
       "      <td>7.437960</td>\n",
       "      <td>7.437960</td>\n",
       "      <td>...</td>\n",
       "      <td>7.437960</td>\n",
       "      <td>7.437960</td>\n",
       "      <td>7.437960</td>\n",
       "      <td>7.437960</td>\n",
       "      <td>7.437960</td>\n",
       "      <td>7.437960</td>\n",
       "      <td>7.437960</td>\n",
       "      <td>7.437960</td>\n",
       "      <td>7.437960</td>\n",
       "      <td>7.437960</td>\n",
       "    </tr>\n",
       "    <tr>\n",
       "      <th>max</th>\n",
       "      <td>15.017700</td>\n",
       "      <td>15.017700</td>\n",
       "      <td>15.017700</td>\n",
       "      <td>15.017700</td>\n",
       "      <td>15.017700</td>\n",
       "      <td>15.017700</td>\n",
       "      <td>15.017700</td>\n",
       "      <td>15.017700</td>\n",
       "      <td>15.017700</td>\n",
       "      <td>15.017700</td>\n",
       "      <td>...</td>\n",
       "      <td>15.017700</td>\n",
       "      <td>15.017700</td>\n",
       "      <td>15.017700</td>\n",
       "      <td>15.017700</td>\n",
       "      <td>15.017700</td>\n",
       "      <td>15.017700</td>\n",
       "      <td>15.017700</td>\n",
       "      <td>15.017700</td>\n",
       "      <td>15.017700</td>\n",
       "      <td>15.017700</td>\n",
       "    </tr>\n",
       "  </tbody>\n",
       "</table>\n",
       "<p>8 rows × 120 columns</p>\n",
       "</div>"
      ],
      "text/plain": [
       "         GSM1105438    GSM1105486    GSM1105487    GSM1105490    GSM1105491  \\\n",
       "count  47323.000000  47323.000000  47323.000000  47323.000000  47323.000000   \n",
       "mean       7.468577      7.468577      7.468577      7.468577      7.468577   \n",
       "std        1.287915      1.287915      1.287915      1.287915      1.287915   \n",
       "min        6.419480      6.419480      6.419480      6.419480      6.419480   \n",
       "25%        6.815735      6.815730      6.815735      6.815735      6.815735   \n",
       "50%        6.940240      6.940240      6.940240      6.940240      6.940240   \n",
       "75%        7.437960      7.437960      7.437960      7.437960      7.437960   \n",
       "max       15.017700     15.017700     15.017700     15.017700     15.017700   \n",
       "\n",
       "         GSM1105495    GSM1105498    GSM1105499    GSM1105506    GSM1105442  \\\n",
       "count  47323.000000  47323.000000  47323.000000  47323.000000  47323.000000   \n",
       "mean       7.468577      7.468577      7.468577      7.468577      7.468577   \n",
       "std        1.287915      1.287915      1.287915      1.287915      1.287915   \n",
       "min        6.419480      6.419480      6.419480      6.419480      6.419480   \n",
       "25%        6.815735      6.815735      6.815735      6.815730      6.815730   \n",
       "50%        6.940230      6.940240      6.940240      6.940240      6.940240   \n",
       "75%        7.437960      7.437960      7.437960      7.437960      7.437960   \n",
       "max       15.017700     15.017700     15.017700     15.017700     15.017700   \n",
       "\n",
       "       ...    GSM1105454    GSM1105468    GSM1105481    GSM1105504  \\\n",
       "count  ...  47323.000000  47323.000000  47323.000000  47323.000000   \n",
       "mean   ...      7.468577      7.468577      7.468577      7.468577   \n",
       "std    ...      1.287915      1.287915      1.287915      1.287915   \n",
       "min    ...      6.419480      6.419480      6.419480      6.419480   \n",
       "25%    ...      6.815735      6.815735      6.815735      6.815735   \n",
       "50%    ...      6.940240      6.940230      6.940240      6.940240   \n",
       "75%    ...      7.437960      7.437960      7.437960      7.437960   \n",
       "max    ...     15.017700     15.017700     15.017700     15.017700   \n",
       "\n",
       "         GSM1105517    GSM1105525    GSM1105552    GSM1105452    GSM1105453  \\\n",
       "count  47323.000000  47323.000000  47323.000000  47323.000000  47323.000000   \n",
       "mean       7.468577      7.468577      7.468577      7.468577      7.468577   \n",
       "std        1.287915      1.287915      1.287915      1.287915      1.287915   \n",
       "min        6.419480      6.419480      6.419480      6.419480      6.419480   \n",
       "25%        6.815730      6.815735      6.815735      6.815735      6.815735   \n",
       "50%        6.940240      6.940240      6.940240      6.940240      6.940240   \n",
       "75%        7.437960      7.437960      7.437960      7.437960      7.437960   \n",
       "max       15.017700     15.017700     15.017700     15.017700     15.017700   \n",
       "\n",
       "         GSM1105456  \n",
       "count  47323.000000  \n",
       "mean       7.468577  \n",
       "std        1.287915  \n",
       "min        6.419480  \n",
       "25%        6.815735  \n",
       "50%        6.940240  \n",
       "75%        7.437960  \n",
       "max       15.017700  \n",
       "\n",
       "[8 rows x 120 columns]"
      ]
     },
     "execution_count": 2,
     "metadata": {},
     "output_type": "execute_result"
    }
   ],
   "source": [
    "# analise dos dados\n",
    "data.describe()"
   ]
  },
  {
   "cell_type": "code",
   "execution_count": 3,
   "id": "c94982b5-ccc1-47d5-90cb-db9750643833",
   "metadata": {},
   "outputs": [
    {
     "data": {
      "text/plain": [
       "(48107, 120)"
      ]
     },
     "execution_count": 3,
     "metadata": {},
     "output_type": "execute_result"
    }
   ],
   "source": [
    "# Dimensao dos dados\n",
    "data.values.shape"
   ]
  },
  {
   "cell_type": "code",
   "execution_count": 4,
   "id": "94ea22ae-ae9c-4352-8516-45c7a80037b1",
   "metadata": {},
   "outputs": [
    {
     "data": {
      "text/plain": [
       "GSM1105438    float64\n",
       "GSM1105486    float64\n",
       "GSM1105487    float64\n",
       "GSM1105490    float64\n",
       "GSM1105491    float64\n",
       "               ...   \n",
       "GSM1105525    float64\n",
       "GSM1105552    float64\n",
       "GSM1105452    float64\n",
       "GSM1105453    float64\n",
       "GSM1105456    float64\n",
       "Length: 120, dtype: object"
      ]
     },
     "execution_count": 4,
     "metadata": {},
     "output_type": "execute_result"
    }
   ],
   "source": [
    "# Tipo de dados do conjunto dados\n",
    "data.dtypes"
   ]
  },
  {
   "cell_type": "code",
   "execution_count": 5,
   "id": "32034868-14db-480c-99ce-4247fa2d9695",
   "metadata": {},
   "outputs": [
    {
     "data": {
      "text/html": [
       "<div>\n",
       "<style scoped>\n",
       "    .dataframe tbody tr th:only-of-type {\n",
       "        vertical-align: middle;\n",
       "    }\n",
       "\n",
       "    .dataframe tbody tr th {\n",
       "        vertical-align: top;\n",
       "    }\n",
       "\n",
       "    .dataframe thead th {\n",
       "        text-align: right;\n",
       "    }\n",
       "</style>\n",
       "<table border=\"1\" class=\"dataframe\">\n",
       "  <thead>\n",
       "    <tr style=\"text-align: right;\">\n",
       "      <th></th>\n",
       "      <th>sample</th>\n",
       "      <th>agent</th>\n",
       "      <th>other</th>\n",
       "      <th>time</th>\n",
       "      <th>individual</th>\n",
       "      <th>description</th>\n",
       "    </tr>\n",
       "  </thead>\n",
       "  <tbody>\n",
       "    <tr>\n",
       "      <th>count</th>\n",
       "      <td>120</td>\n",
       "      <td>120</td>\n",
       "      <td>120</td>\n",
       "      <td>120</td>\n",
       "      <td>120</td>\n",
       "      <td>120</td>\n",
       "    </tr>\n",
       "    <tr>\n",
       "      <th>unique</th>\n",
       "      <td>120</td>\n",
       "      <td>2</td>\n",
       "      <td>2</td>\n",
       "      <td>2</td>\n",
       "      <td>60</td>\n",
       "      <td>120</td>\n",
       "    </tr>\n",
       "    <tr>\n",
       "      <th>top</th>\n",
       "      <td>GSM1105438</td>\n",
       "      <td>control</td>\n",
       "      <td>non-responder</td>\n",
       "      <td>baseline</td>\n",
       "      <td>OPT_1</td>\n",
       "      <td>Value for GSM1105438: OPT_1-baseline; src: Per...</td>\n",
       "    </tr>\n",
       "    <tr>\n",
       "      <th>freq</th>\n",
       "      <td>1</td>\n",
       "      <td>64</td>\n",
       "      <td>94</td>\n",
       "      <td>60</td>\n",
       "      <td>2</td>\n",
       "      <td>1</td>\n",
       "    </tr>\n",
       "  </tbody>\n",
       "</table>\n",
       "</div>"
      ],
      "text/plain": [
       "            sample    agent          other      time individual  \\\n",
       "count          120      120            120       120        120   \n",
       "unique         120        2              2         2         60   \n",
       "top     GSM1105438  control  non-responder  baseline      OPT_1   \n",
       "freq             1       64             94        60          2   \n",
       "\n",
       "                                              description  \n",
       "count                                                 120  \n",
       "unique                                                120  \n",
       "top     Value for GSM1105438: OPT_1-baseline; src: Per...  \n",
       "freq                                                    1  "
      ]
     },
     "execution_count": 5,
     "metadata": {},
     "output_type": "execute_result"
    }
   ],
   "source": [
    "# analise dos metadados\n",
    "meta.describe()"
   ]
  },
  {
   "cell_type": "code",
   "execution_count": 6,
   "id": "a7fff7e2-07c0-49d0-83b8-b79dae00e9d0",
   "metadata": {},
   "outputs": [
    {
     "data": {
      "text/plain": [
       "(120, 6)"
      ]
     },
     "execution_count": 6,
     "metadata": {},
     "output_type": "execute_result"
    }
   ],
   "source": [
    "# Dimensao dos metadados\n",
    "meta.values.shape"
   ]
  },
  {
   "cell_type": "code",
   "execution_count": 7,
   "id": "5b79e23e-caf2-4d96-a00f-e97d3f1c505c",
   "metadata": {},
   "outputs": [
    {
     "data": {
      "text/plain": [
       "sample         object\n",
       "agent          object\n",
       "other          object\n",
       "time           object\n",
       "individual     object\n",
       "description    object\n",
       "dtype: object"
      ]
     },
     "execution_count": 7,
     "metadata": {},
     "output_type": "execute_result"
    }
   ],
   "source": [
    "# Tipo de dados do metadados\n",
    "meta.dtypes"
   ]
  },
  {
   "cell_type": "code",
   "execution_count": 8,
   "id": "1f437150-45b6-4ee7-82f3-2ce748f9becb",
   "metadata": {},
   "outputs": [
    {
     "data": {
      "text/html": [
       "<div>\n",
       "<style scoped>\n",
       "    .dataframe tbody tr th:only-of-type {\n",
       "        vertical-align: middle;\n",
       "    }\n",
       "\n",
       "    .dataframe tbody tr th {\n",
       "        vertical-align: top;\n",
       "    }\n",
       "\n",
       "    .dataframe thead th {\n",
       "        text-align: right;\n",
       "    }\n",
       "</style>\n",
       "<table border=\"1\" class=\"dataframe\">\n",
       "  <thead>\n",
       "    <tr style=\"text-align: right;\">\n",
       "      <th></th>\n",
       "      <th>GSM1105438</th>\n",
       "      <th>GSM1105486</th>\n",
       "      <th>GSM1105487</th>\n",
       "      <th>GSM1105490</th>\n",
       "      <th>GSM1105491</th>\n",
       "      <th>GSM1105495</th>\n",
       "      <th>GSM1105498</th>\n",
       "      <th>GSM1105499</th>\n",
       "      <th>GSM1105506</th>\n",
       "      <th>GSM1105442</th>\n",
       "      <th>...</th>\n",
       "      <th>GSM1105454</th>\n",
       "      <th>GSM1105468</th>\n",
       "      <th>GSM1105481</th>\n",
       "      <th>GSM1105504</th>\n",
       "      <th>GSM1105517</th>\n",
       "      <th>GSM1105525</th>\n",
       "      <th>GSM1105552</th>\n",
       "      <th>GSM1105452</th>\n",
       "      <th>GSM1105453</th>\n",
       "      <th>GSM1105456</th>\n",
       "    </tr>\n",
       "  </thead>\n",
       "  <tbody>\n",
       "    <tr>\n",
       "      <th>ILMN_1343048</th>\n",
       "      <td>NaN</td>\n",
       "      <td>NaN</td>\n",
       "      <td>NaN</td>\n",
       "      <td>NaN</td>\n",
       "      <td>NaN</td>\n",
       "      <td>NaN</td>\n",
       "      <td>NaN</td>\n",
       "      <td>NaN</td>\n",
       "      <td>NaN</td>\n",
       "      <td>NaN</td>\n",
       "      <td>...</td>\n",
       "      <td>NaN</td>\n",
       "      <td>NaN</td>\n",
       "      <td>NaN</td>\n",
       "      <td>NaN</td>\n",
       "      <td>NaN</td>\n",
       "      <td>NaN</td>\n",
       "      <td>NaN</td>\n",
       "      <td>NaN</td>\n",
       "      <td>NaN</td>\n",
       "      <td>NaN</td>\n",
       "    </tr>\n",
       "    <tr>\n",
       "      <th>ILMN_1343049</th>\n",
       "      <td>NaN</td>\n",
       "      <td>NaN</td>\n",
       "      <td>NaN</td>\n",
       "      <td>NaN</td>\n",
       "      <td>NaN</td>\n",
       "      <td>NaN</td>\n",
       "      <td>NaN</td>\n",
       "      <td>NaN</td>\n",
       "      <td>NaN</td>\n",
       "      <td>NaN</td>\n",
       "      <td>...</td>\n",
       "      <td>NaN</td>\n",
       "      <td>NaN</td>\n",
       "      <td>NaN</td>\n",
       "      <td>NaN</td>\n",
       "      <td>NaN</td>\n",
       "      <td>NaN</td>\n",
       "      <td>NaN</td>\n",
       "      <td>NaN</td>\n",
       "      <td>NaN</td>\n",
       "      <td>NaN</td>\n",
       "    </tr>\n",
       "    <tr>\n",
       "      <th>ILMN_1343050</th>\n",
       "      <td>NaN</td>\n",
       "      <td>NaN</td>\n",
       "      <td>NaN</td>\n",
       "      <td>NaN</td>\n",
       "      <td>NaN</td>\n",
       "      <td>NaN</td>\n",
       "      <td>NaN</td>\n",
       "      <td>NaN</td>\n",
       "      <td>NaN</td>\n",
       "      <td>NaN</td>\n",
       "      <td>...</td>\n",
       "      <td>NaN</td>\n",
       "      <td>NaN</td>\n",
       "      <td>NaN</td>\n",
       "      <td>NaN</td>\n",
       "      <td>NaN</td>\n",
       "      <td>NaN</td>\n",
       "      <td>NaN</td>\n",
       "      <td>NaN</td>\n",
       "      <td>NaN</td>\n",
       "      <td>NaN</td>\n",
       "    </tr>\n",
       "    <tr>\n",
       "      <th>ILMN_1343052</th>\n",
       "      <td>NaN</td>\n",
       "      <td>NaN</td>\n",
       "      <td>NaN</td>\n",
       "      <td>NaN</td>\n",
       "      <td>NaN</td>\n",
       "      <td>NaN</td>\n",
       "      <td>NaN</td>\n",
       "      <td>NaN</td>\n",
       "      <td>NaN</td>\n",
       "      <td>NaN</td>\n",
       "      <td>...</td>\n",
       "      <td>NaN</td>\n",
       "      <td>NaN</td>\n",
       "      <td>NaN</td>\n",
       "      <td>NaN</td>\n",
       "      <td>NaN</td>\n",
       "      <td>NaN</td>\n",
       "      <td>NaN</td>\n",
       "      <td>NaN</td>\n",
       "      <td>NaN</td>\n",
       "      <td>NaN</td>\n",
       "    </tr>\n",
       "    <tr>\n",
       "      <th>ILMN_1343059</th>\n",
       "      <td>NaN</td>\n",
       "      <td>NaN</td>\n",
       "      <td>NaN</td>\n",
       "      <td>NaN</td>\n",
       "      <td>NaN</td>\n",
       "      <td>NaN</td>\n",
       "      <td>NaN</td>\n",
       "      <td>NaN</td>\n",
       "      <td>NaN</td>\n",
       "      <td>NaN</td>\n",
       "      <td>...</td>\n",
       "      <td>NaN</td>\n",
       "      <td>NaN</td>\n",
       "      <td>NaN</td>\n",
       "      <td>NaN</td>\n",
       "      <td>NaN</td>\n",
       "      <td>NaN</td>\n",
       "      <td>NaN</td>\n",
       "      <td>NaN</td>\n",
       "      <td>NaN</td>\n",
       "      <td>NaN</td>\n",
       "    </tr>\n",
       "  </tbody>\n",
       "</table>\n",
       "<p>5 rows × 120 columns</p>\n",
       "</div>"
      ],
      "text/plain": [
       "              GSM1105438  GSM1105486  GSM1105487  GSM1105490  GSM1105491  \\\n",
       "ILMN_1343048         NaN         NaN         NaN         NaN         NaN   \n",
       "ILMN_1343049         NaN         NaN         NaN         NaN         NaN   \n",
       "ILMN_1343050         NaN         NaN         NaN         NaN         NaN   \n",
       "ILMN_1343052         NaN         NaN         NaN         NaN         NaN   \n",
       "ILMN_1343059         NaN         NaN         NaN         NaN         NaN   \n",
       "\n",
       "              GSM1105495  GSM1105498  GSM1105499  GSM1105506  GSM1105442  ...  \\\n",
       "ILMN_1343048         NaN         NaN         NaN         NaN         NaN  ...   \n",
       "ILMN_1343049         NaN         NaN         NaN         NaN         NaN  ...   \n",
       "ILMN_1343050         NaN         NaN         NaN         NaN         NaN  ...   \n",
       "ILMN_1343052         NaN         NaN         NaN         NaN         NaN  ...   \n",
       "ILMN_1343059         NaN         NaN         NaN         NaN         NaN  ...   \n",
       "\n",
       "              GSM1105454  GSM1105468  GSM1105481  GSM1105504  GSM1105517  \\\n",
       "ILMN_1343048         NaN         NaN         NaN         NaN         NaN   \n",
       "ILMN_1343049         NaN         NaN         NaN         NaN         NaN   \n",
       "ILMN_1343050         NaN         NaN         NaN         NaN         NaN   \n",
       "ILMN_1343052         NaN         NaN         NaN         NaN         NaN   \n",
       "ILMN_1343059         NaN         NaN         NaN         NaN         NaN   \n",
       "\n",
       "              GSM1105525  GSM1105552  GSM1105452  GSM1105453  GSM1105456  \n",
       "ILMN_1343048         NaN         NaN         NaN         NaN         NaN  \n",
       "ILMN_1343049         NaN         NaN         NaN         NaN         NaN  \n",
       "ILMN_1343050         NaN         NaN         NaN         NaN         NaN  \n",
       "ILMN_1343052         NaN         NaN         NaN         NaN         NaN  \n",
       "ILMN_1343059         NaN         NaN         NaN         NaN         NaN  \n",
       "\n",
       "[5 rows x 120 columns]"
      ]
     },
     "execution_count": 8,
     "metadata": {},
     "output_type": "execute_result"
    }
   ],
   "source": [
    "# vendo as primeiras 5 linhas do dataset, podemos ver que temos muitos valores nulos (NaN)\n",
    "data.head(5)"
   ]
  },
  {
   "cell_type": "markdown",
   "id": "a1971d25-a734-4253-b0d2-d1095f871852",
   "metadata": {},
   "source": [
    "**1.2 Análise e limpeza de dados/metadados com valores nulos**"
   ]
  },
  {
   "cell_type": "code",
   "execution_count": 9,
   "id": "a3cf27e1-0d08-418d-b893-799c7c15109f",
   "metadata": {},
   "outputs": [
    {
     "data": {
      "text/plain": [
       "94080"
      ]
     },
     "execution_count": 9,
     "metadata": {},
     "output_type": "execute_result"
    }
   ],
   "source": [
    "# verificar a existência de valores nulos nos dados\n",
    "data.isnull().sum().sum()"
   ]
  },
  {
   "cell_type": "code",
   "execution_count": 10,
   "id": "473d0c45-943c-4677-92ff-d6b193805557",
   "metadata": {},
   "outputs": [
    {
     "data": {
      "text/plain": [
       "0"
      ]
     },
     "execution_count": 10,
     "metadata": {},
     "output_type": "execute_result"
    }
   ],
   "source": [
    "# verificar a existência de valores nulos nos dados\n",
    "meta.isnull().sum().sum()"
   ]
  },
  {
   "cell_type": "code",
   "execution_count": 11,
   "id": "13ee9886-0d2f-4147-b169-43a0c8f89467",
   "metadata": {},
   "outputs": [
    {
     "data": {
      "text/plain": [
       "GSM1105438    784\n",
       "GSM1105486    784\n",
       "GSM1105487    784\n",
       "GSM1105490    784\n",
       "GSM1105491    784\n",
       "             ... \n",
       "GSM1105525    784\n",
       "GSM1105552    784\n",
       "GSM1105452    784\n",
       "GSM1105453    784\n",
       "GSM1105456    784\n",
       "Length: 120, dtype: int64"
      ]
     },
     "execution_count": 11,
     "metadata": {},
     "output_type": "execute_result"
    }
   ],
   "source": [
    "# vimos que os dados têm 94080 registos nulos, vamos verificar quais as colunas\n",
    "data.isnull().sum()"
   ]
  },
  {
   "cell_type": "code",
   "execution_count": 12,
   "id": "7198c8ec-fcda-4081-9c00-c956d8eeaea8",
   "metadata": {},
   "outputs": [],
   "source": [
    "# limpar todos os dados nulos, usando o parâmetro inplace = True para alterar directamente na variável data\n",
    "data.dropna(inplace = True)"
   ]
  },
  {
   "cell_type": "code",
   "execution_count": 13,
   "id": "0e996361-c6ed-48dd-a310-1b55d15ae88e",
   "metadata": {},
   "outputs": [
    {
     "data": {
      "text/plain": [
       "(47323, 120)"
      ]
     },
     "execution_count": 13,
     "metadata": {},
     "output_type": "execute_result"
    }
   ],
   "source": [
    "# Ver a nova dimensão dos dados\n",
    "data.values.shape"
   ]
  },
  {
   "cell_type": "code",
   "execution_count": 14,
   "id": "e25bc9ae-b63b-4264-9cbd-00fc1f4445c5",
   "metadata": {},
   "outputs": [],
   "source": [
    "# fazer a transporta para termos os dados na forma de uma matriz de genes (nas colunas) e amostras (nas linhas)\n",
    "data = data.transpose()"
   ]
  },
  {
   "cell_type": "code",
   "execution_count": 15,
   "id": "cd02eeb3-de99-4701-8033-dd442a48dc97",
   "metadata": {},
   "outputs": [
    {
     "data": {
      "text/plain": [
       "(120, 47323)"
      ]
     },
     "execution_count": 15,
     "metadata": {},
     "output_type": "execute_result"
    }
   ],
   "source": [
    "# Dimensao dos dados\n",
    "data.values.shape"
   ]
  },
  {
   "cell_type": "code",
   "execution_count": 16,
   "id": "9dba5859-f608-4071-8e77-561a6019c10d",
   "metadata": {},
   "outputs": [
    {
     "data": {
      "text/html": [
       "<div>\n",
       "<style scoped>\n",
       "    .dataframe tbody tr th:only-of-type {\n",
       "        vertical-align: middle;\n",
       "    }\n",
       "\n",
       "    .dataframe tbody tr th {\n",
       "        vertical-align: top;\n",
       "    }\n",
       "\n",
       "    .dataframe thead th {\n",
       "        text-align: right;\n",
       "    }\n",
       "</style>\n",
       "<table border=\"1\" class=\"dataframe\">\n",
       "  <thead>\n",
       "    <tr style=\"text-align: right;\">\n",
       "      <th></th>\n",
       "      <th>ILMN_1343291</th>\n",
       "      <th>ILMN_1343295</th>\n",
       "      <th>ILMN_1651199</th>\n",
       "      <th>ILMN_1651209</th>\n",
       "      <th>ILMN_1651210</th>\n",
       "      <th>ILMN_1651221</th>\n",
       "      <th>ILMN_1651228</th>\n",
       "      <th>ILMN_1651229</th>\n",
       "      <th>ILMN_1651230</th>\n",
       "      <th>ILMN_1651232</th>\n",
       "      <th>...</th>\n",
       "      <th>ILMN_3311145</th>\n",
       "      <th>ILMN_3311150</th>\n",
       "      <th>ILMN_3311155</th>\n",
       "      <th>ILMN_3311160</th>\n",
       "      <th>ILMN_3311165</th>\n",
       "      <th>ILMN_3311170</th>\n",
       "      <th>ILMN_3311175</th>\n",
       "      <th>ILMN_3311180</th>\n",
       "      <th>ILMN_3311185</th>\n",
       "      <th>ILMN_3311190</th>\n",
       "    </tr>\n",
       "  </thead>\n",
       "  <tbody>\n",
       "    <tr>\n",
       "      <th>GSM1105438</th>\n",
       "      <td>14.8983</td>\n",
       "      <td>12.1027</td>\n",
       "      <td>6.90845</td>\n",
       "      <td>6.97636</td>\n",
       "      <td>6.89734</td>\n",
       "      <td>7.01968</td>\n",
       "      <td>11.9813</td>\n",
       "      <td>7.94897</td>\n",
       "      <td>6.88075</td>\n",
       "      <td>7.05958</td>\n",
       "      <td>...</td>\n",
       "      <td>6.89246</td>\n",
       "      <td>6.78430</td>\n",
       "      <td>6.92158</td>\n",
       "      <td>6.92631</td>\n",
       "      <td>7.12904</td>\n",
       "      <td>6.77274</td>\n",
       "      <td>6.85770</td>\n",
       "      <td>7.08213</td>\n",
       "      <td>6.85267</td>\n",
       "      <td>7.81762</td>\n",
       "    </tr>\n",
       "    <tr>\n",
       "      <th>GSM1105486</th>\n",
       "      <td>14.7170</td>\n",
       "      <td>12.4403</td>\n",
       "      <td>6.63058</td>\n",
       "      <td>7.16577</td>\n",
       "      <td>6.84158</td>\n",
       "      <td>6.87300</td>\n",
       "      <td>12.9543</td>\n",
       "      <td>7.86514</td>\n",
       "      <td>6.87122</td>\n",
       "      <td>6.87390</td>\n",
       "      <td>...</td>\n",
       "      <td>6.92284</td>\n",
       "      <td>6.82762</td>\n",
       "      <td>7.09969</td>\n",
       "      <td>6.84452</td>\n",
       "      <td>6.92715</td>\n",
       "      <td>6.78293</td>\n",
       "      <td>6.81344</td>\n",
       "      <td>6.85598</td>\n",
       "      <td>6.74649</td>\n",
       "      <td>7.55871</td>\n",
       "    </tr>\n",
       "    <tr>\n",
       "      <th>GSM1105487</th>\n",
       "      <td>14.8411</td>\n",
       "      <td>12.4878</td>\n",
       "      <td>6.74203</td>\n",
       "      <td>7.23598</td>\n",
       "      <td>6.83540</td>\n",
       "      <td>7.13678</td>\n",
       "      <td>12.9664</td>\n",
       "      <td>8.50659</td>\n",
       "      <td>6.92326</td>\n",
       "      <td>6.91722</td>\n",
       "      <td>...</td>\n",
       "      <td>6.85514</td>\n",
       "      <td>6.67967</td>\n",
       "      <td>6.91126</td>\n",
       "      <td>6.79946</td>\n",
       "      <td>7.20899</td>\n",
       "      <td>6.73403</td>\n",
       "      <td>6.69688</td>\n",
       "      <td>6.96195</td>\n",
       "      <td>6.82538</td>\n",
       "      <td>7.69129</td>\n",
       "    </tr>\n",
       "    <tr>\n",
       "      <th>GSM1105490</th>\n",
       "      <td>14.9191</td>\n",
       "      <td>11.6591</td>\n",
       "      <td>6.84711</td>\n",
       "      <td>7.20855</td>\n",
       "      <td>6.86877</td>\n",
       "      <td>6.87585</td>\n",
       "      <td>13.4400</td>\n",
       "      <td>7.85840</td>\n",
       "      <td>6.79209</td>\n",
       "      <td>6.96697</td>\n",
       "      <td>...</td>\n",
       "      <td>6.86023</td>\n",
       "      <td>6.86298</td>\n",
       "      <td>7.09422</td>\n",
       "      <td>6.83745</td>\n",
       "      <td>7.18966</td>\n",
       "      <td>6.85946</td>\n",
       "      <td>6.69968</td>\n",
       "      <td>6.99962</td>\n",
       "      <td>6.96305</td>\n",
       "      <td>7.32495</td>\n",
       "    </tr>\n",
       "    <tr>\n",
       "      <th>GSM1105491</th>\n",
       "      <td>14.7371</td>\n",
       "      <td>11.9833</td>\n",
       "      <td>6.83116</td>\n",
       "      <td>7.17747</td>\n",
       "      <td>6.84190</td>\n",
       "      <td>6.91533</td>\n",
       "      <td>12.9282</td>\n",
       "      <td>7.71051</td>\n",
       "      <td>6.94781</td>\n",
       "      <td>7.10965</td>\n",
       "      <td>...</td>\n",
       "      <td>6.92191</td>\n",
       "      <td>6.79342</td>\n",
       "      <td>6.89431</td>\n",
       "      <td>6.91218</td>\n",
       "      <td>7.23281</td>\n",
       "      <td>6.87367</td>\n",
       "      <td>6.68000</td>\n",
       "      <td>6.88795</td>\n",
       "      <td>6.87131</td>\n",
       "      <td>7.90085</td>\n",
       "    </tr>\n",
       "  </tbody>\n",
       "</table>\n",
       "<p>5 rows × 47323 columns</p>\n",
       "</div>"
      ],
      "text/plain": [
       "            ILMN_1343291  ILMN_1343295  ILMN_1651199  ILMN_1651209  \\\n",
       "GSM1105438       14.8983       12.1027       6.90845       6.97636   \n",
       "GSM1105486       14.7170       12.4403       6.63058       7.16577   \n",
       "GSM1105487       14.8411       12.4878       6.74203       7.23598   \n",
       "GSM1105490       14.9191       11.6591       6.84711       7.20855   \n",
       "GSM1105491       14.7371       11.9833       6.83116       7.17747   \n",
       "\n",
       "            ILMN_1651210  ILMN_1651221  ILMN_1651228  ILMN_1651229  \\\n",
       "GSM1105438       6.89734       7.01968       11.9813       7.94897   \n",
       "GSM1105486       6.84158       6.87300       12.9543       7.86514   \n",
       "GSM1105487       6.83540       7.13678       12.9664       8.50659   \n",
       "GSM1105490       6.86877       6.87585       13.4400       7.85840   \n",
       "GSM1105491       6.84190       6.91533       12.9282       7.71051   \n",
       "\n",
       "            ILMN_1651230  ILMN_1651232  ...  ILMN_3311145  ILMN_3311150  \\\n",
       "GSM1105438       6.88075       7.05958  ...       6.89246       6.78430   \n",
       "GSM1105486       6.87122       6.87390  ...       6.92284       6.82762   \n",
       "GSM1105487       6.92326       6.91722  ...       6.85514       6.67967   \n",
       "GSM1105490       6.79209       6.96697  ...       6.86023       6.86298   \n",
       "GSM1105491       6.94781       7.10965  ...       6.92191       6.79342   \n",
       "\n",
       "            ILMN_3311155  ILMN_3311160  ILMN_3311165  ILMN_3311170  \\\n",
       "GSM1105438       6.92158       6.92631       7.12904       6.77274   \n",
       "GSM1105486       7.09969       6.84452       6.92715       6.78293   \n",
       "GSM1105487       6.91126       6.79946       7.20899       6.73403   \n",
       "GSM1105490       7.09422       6.83745       7.18966       6.85946   \n",
       "GSM1105491       6.89431       6.91218       7.23281       6.87367   \n",
       "\n",
       "            ILMN_3311175  ILMN_3311180  ILMN_3311185  ILMN_3311190  \n",
       "GSM1105438       6.85770       7.08213       6.85267       7.81762  \n",
       "GSM1105486       6.81344       6.85598       6.74649       7.55871  \n",
       "GSM1105487       6.69688       6.96195       6.82538       7.69129  \n",
       "GSM1105490       6.69968       6.99962       6.96305       7.32495  \n",
       "GSM1105491       6.68000       6.88795       6.87131       7.90085  \n",
       "\n",
       "[5 rows x 47323 columns]"
      ]
     },
     "execution_count": 16,
     "metadata": {},
     "output_type": "execute_result"
    }
   ],
   "source": [
    "data.head(5)"
   ]
  },
  {
   "cell_type": "code",
   "execution_count": 17,
   "id": "822a49b4-6152-4d4e-84f3-2da618c6f485",
   "metadata": {},
   "outputs": [
    {
     "name": "stdout",
     "output_type": "stream",
     "text": [
      "Minimo ----- Maximo\n"
     ]
    },
    {
     "data": {
      "text/plain": [
       "ILMN_1343291    14.3309 ----- 15.0177 ----- 0.10926424367915939\n",
       "ILMN_1343295    11.6006 ----- 12.8483 ----- 0.24760894057158023\n",
       "ILMN_1651199    6.57134 ----- 7.13862 ----- 0.09280267832676947\n",
       "ILMN_1651209    6.83089 ----- 7.64068 ----- 0.13348539618357394\n",
       "ILMN_1651210    6.66106 ----- 7.10086 ----- 0.08888277316206436\n",
       "                                     ...                       \n",
       "ILMN_3311170     6.65807 ----- 7.21802 ----- 0.0943469514053782\n",
       "ILMN_3311175    6.61104 ----- 7.11496 ----- 0.08270598889976445\n",
       "ILMN_3311180     6.70138 ----- 7.08213 ----- 0.0844239967010837\n",
       "ILMN_3311185    6.63058 ----- 6.97636 ----- 0.07296102550920143\n",
       "ILMN_3311190      6.9813 ----- 8.83496 ----- 0.3349601537679698\n",
       "Length: 47323, dtype: object"
      ]
     },
     "execution_count": 17,
     "metadata": {},
     "output_type": "execute_result"
    }
   ],
   "source": [
    "print(\"Minimo ----- Maximo\")\n",
    "\n",
    "data.apply(lambda x: str(x.min())+\" ----- \"+str( x.max()) + \" ----- \" + str(x.std()))"
   ]
  },
  {
   "cell_type": "markdown",
   "id": "c419ead0-ff43-4684-81c2-b49adc3e2df0",
   "metadata": {},
   "source": [
    "**1.3 Exploração gráfica para identificar as suas principais características.**"
   ]
  },
  {
   "cell_type": "code",
   "execution_count": 18,
   "id": "51e9addc-2a6e-4c3e-a7d7-c40b902ed1b8",
   "metadata": {},
   "outputs": [
    {
     "name": "stdout",
     "output_type": "stream",
     "text": [
      "agent\n",
      "control    64\n",
      "lithium    56\n",
      "dtype: int64\n"
     ]
    },
    {
     "data": {
      "text/plain": [
       "<AxesSubplot: xlabel='agent'>"
      ]
     },
     "execution_count": 18,
     "metadata": {},
     "output_type": "execute_result"
    },
    {
     "data": {
      "image/png": "[encoded data removed]",
      "text/plain": [
       "<Figure size 640x480 with 1 Axes>"
      ]
     },
     "metadata": {},
     "output_type": "display_data"
    }
   ],
   "source": [
    "print(meta.groupby(\"agent\").size())\n",
    "meta.groupby(\"agent\").size().plot.bar()"
   ]
  },
  {
   "cell_type": "code",
   "execution_count": 19,
   "id": "6ceb10b0-3e6c-445b-a2bf-a170718c0dbe",
   "metadata": {},
   "outputs": [
    {
     "name": "stdout",
     "output_type": "stream",
     "text": [
      "other\n",
      "non-responder    94\n",
      "responder        26\n",
      "dtype: int64\n"
     ]
    },
    {
     "data": {
      "text/plain": [
       "<AxesSubplot: xlabel='other'>"
      ]
     },
     "execution_count": 19,
     "metadata": {},
     "output_type": "execute_result"
    },
    {
     "data": {
      "image/png": "[encoded data removed]",
      "text/plain": [
       "<Figure size 640x480 with 1 Axes>"
      ]
     },
     "metadata": {},
     "output_type": "display_data"
    }
   ],
   "source": [
    "print(meta.groupby(\"other\").size())\n",
    "meta.groupby(\"other\").size().plot.bar()"
   ]
  },
  {
   "cell_type": "code",
   "execution_count": 20,
   "id": "fe354757-b02c-4c28-9463-e4646096194e",
   "metadata": {},
   "outputs": [
    {
     "name": "stdout",
     "output_type": "stream",
     "text": [
      "time\n",
      "1 month     60\n",
      "baseline    60\n",
      "dtype: int64\n"
     ]
    },
    {
     "data": {
      "text/plain": [
       "<AxesSubplot: xlabel='time'>"
      ]
     },
     "execution_count": 20,
     "metadata": {},
     "output_type": "execute_result"
    },
    {
     "data": {
      "image/png": "[encoded data removed]",
      "text/plain": [
       "<Figure size 640x480 with 1 Axes>"
      ]
     },
     "metadata": {},
     "output_type": "display_data"
    }
   ],
   "source": [
    "print(meta.groupby(\"time\").size())\n",
    "meta.groupby(\"time\").size().plot.bar()"
   ]
  },
  {
   "cell_type": "markdown",
   "id": "faa14378-2113-418a-a590-0210b61e3c68",
   "metadata": {},
   "source": [
    "**Análise multivariada não supervisionada**"
   ]
  },
  {
   "cell_type": "code",
   "execution_count": 21,
   "id": "e24d099b-237a-46b0-995a-41d66132a702",
   "metadata": {},
   "outputs": [
    {
     "name": "stdout",
     "output_type": "stream",
     "text": [
      "Media:  -2.7738738769753983e-16\n",
      "Desvio padrao:  1.0000000000000004\n"
     ]
    }
   ],
   "source": [
    "# pre-processamento: standardizacao dos dados\n",
    "from sklearn import preprocessing\n",
    "\n",
    "# re-escalonamento dos valores para ficarem dentro de limites normalizados \n",
    "# (distribuição normal com média 0 e variância 1) em cada variável\n",
    "data_scaled = preprocessing.scale(data.values)\n",
    "print(\"Media: \", data_scaled.mean())\n",
    "print(\"Desvio padrao: \", data_scaled.std())"
   ]
  },
  {
   "cell_type": "code",
   "execution_count": 22,
   "id": "b5f654ba-1eaa-4536-8592-0941dd6b55bd",
   "metadata": {},
   "outputs": [
    {
     "name": "stdout",
     "output_type": "stream",
     "text": [
      "[8.71316645e-02 4.40580788e-02 2.99399569e-02 2.77307872e-02\n",
      " 2.28816659e-02 1.73148981e-02 1.54599396e-02 1.29427286e-02\n",
      " 1.25065106e-02 1.18250164e-02 1.14910546e-02 1.08734400e-02\n",
      " 1.05372538e-02 1.03432573e-02 1.01893161e-02 9.94983362e-03\n",
      " 9.89666485e-03 9.56988687e-03 8.85361350e-03 8.73402885e-03\n",
      " 8.53368032e-03 8.52277230e-03 8.36505305e-03 8.21199440e-03\n",
      " 8.19486281e-03 8.01076903e-03 7.93039420e-03 7.87191947e-03\n",
      " 7.77290956e-03 7.75768570e-03 7.75145911e-03 7.61174129e-03\n",
      " 7.54735176e-03 7.41462957e-03 7.35188139e-03 7.33705737e-03\n",
      " 7.30531131e-03 7.29504446e-03 7.25073517e-03 7.18003031e-03\n",
      " 7.13468470e-03 7.11138544e-03 7.06537435e-03 7.04600003e-03\n",
      " 6.95274830e-03 6.91065071e-03 6.89718145e-03 6.83360054e-03\n",
      " 6.82105869e-03 6.74600046e-03 6.73357035e-03 6.70595849e-03\n",
      " 6.67944706e-03 6.66507809e-03 6.62577294e-03 6.58757777e-03\n",
      " 6.57054407e-03 6.55462040e-03 6.48844337e-03 6.46779094e-03\n",
      " 6.41982578e-03 6.39585096e-03 6.37814597e-03 6.35647733e-03\n",
      " 6.32446704e-03 6.31808350e-03 6.29508065e-03 6.27394860e-03\n",
      " 6.23317933e-03 6.19763112e-03 6.17707453e-03 6.14951555e-03\n",
      " 6.13032167e-03 6.11209807e-03 6.06731896e-03 6.02794330e-03\n",
      " 5.97456035e-03 5.96292265e-03 5.91998730e-03 5.90293930e-03\n",
      " 5.87640465e-03 5.79485237e-03 5.78752954e-03 5.74528801e-03\n",
      " 5.73913776e-03 5.72339659e-03 5.67396603e-03 5.62983232e-03\n",
      " 5.60813011e-03 5.58554828e-03 5.53651604e-03 5.52969023e-03\n",
      " 5.50083489e-03 5.48041296e-03 5.40047544e-03 5.37903048e-03\n",
      " 5.35128277e-03 5.30827740e-03 5.26390457e-03 5.23199688e-03\n",
      " 5.21979064e-03 5.18550205e-03 5.16568654e-03 5.12115799e-03\n",
      " 5.10096348e-03 5.05183872e-03 5.00323362e-03 4.98795116e-03\n",
      " 4.91963217e-03 4.91078484e-03 4.88929221e-03 4.85763810e-03\n",
      " 4.78665621e-03 4.69568468e-03 4.67750705e-03 4.60883286e-03\n",
      " 4.53132914e-03 4.43125127e-03 4.04702089e-03 1.29094767e-32]\n",
      "0.9999999999999999\n"
     ]
    },
    {
     "data": {
      "image/png": "[encoded data removed]",
      "text/plain": [
       "<Figure size 640x480 with 1 Axes>"
      ]
     },
     "metadata": {},
     "output_type": "display_data"
    },
    {
     "name": "stdout",
     "output_type": "stream",
     "text": [
      "São necessários 99 componentes para explicar 90% da variabilidade dos dados.\n"
     ]
    }
   ],
   "source": [
    "from sklearn.decomposition import PCA\n",
    "# Redução de dimensionalidade\n",
    "# número de componentes para manter\n",
    "n_components = 120\n",
    "pca = PCA(n_components=n_components)\n",
    "\n",
    "# Ajustar o PCA aos dados escalados\n",
    "pca.fit(data_scaled)\n",
    "# Transformar os dados usando as componentes principais\n",
    "x_reduced = pca.transform(data_scaled)\n",
    "\n",
    "print (pca.explained_variance_ratio_) \n",
    "print(sum(pca.explained_variance_ratio_[:n_components]))\n",
    "\n",
    "plt.bar(range(n_components), pca.explained_variance_ratio_*100)\n",
    "#plt.xticks(range(n), ['PC'+str(i) for i in range(1,n+1)])\n",
    "plt.title(\"Variância explicada por PC\")\n",
    "plt.ylabel(\"Percentagem\")\n",
    "plt.show()\n",
    "\n",
    "# determinar o número de componentes principais necessários para explicar 90% da variabilidade dos dados\n",
    "explained_variance = np.cumsum(pca.explained_variance_ratio_)\n",
    "n_components = np.where(explained_variance >= 0.90)[0][0] + 1\n",
    "print(f'São necessários {n_components} componentes para explicar 90% da variabilidade dos dados.')"
   ]
  },
  {
   "cell_type": "code",
   "execution_count": 23,
   "id": "b541de3e-8e34-4419-b2c8-cf26c2917f1b",
   "metadata": {},
   "outputs": [
    {
     "data": {
      "image/png": "[encoded data removed]",
      "text/plain": [
       "<Figure size 640x480 with 1 Axes>"
      ]
     },
     "metadata": {},
     "output_type": "display_data"
    },
    {
     "data": {
      "image/png": "[encoded data removed]",
      "text/plain": [
       "<Figure size 640x480 with 1 Axes>"
      ]
     },
     "metadata": {},
     "output_type": "display_data"
    }
   ],
   "source": [
    "# Fazer um plot scatter mostrando cada uma das 2 classes com diferentes cores\n",
    "for class_name in ['other','agent']:\n",
    "    output_data = meta[class_name].values\n",
    "    plt.figure()\n",
    "    for c, name in zip(\"gb\", meta[class_name].unique()):\n",
    "        plt.scatter(x_reduced[output_data == name, 0], x_reduced[output_data == name, 1], c=c, label=name)\n",
    "    plt.legend()\n",
    "    plt.title('PCA - '+ class_name)\n",
    "    plt.show()"
   ]
  },
  {
   "cell_type": "markdown",
   "id": "27a7be28-f105-4f87-9071-8260616d915e",
   "metadata": {},
   "source": [
    "**Clustering hierarquico dos dados, utilizando a métrica de distância \"Manhattan”**"
   ]
  },
  {
   "cell_type": "code",
   "execution_count": 24,
   "id": "51a3b351-cead-4d3c-93ba-7fd4cc494fc3",
   "metadata": {},
   "outputs": [
    {
     "data": {
      "image/png": "[encoded data removed]",
      "text/plain": [
       "<Figure size 2500x1000 with 1 Axes>"
      ]
     },
     "metadata": {},
     "output_type": "display_data"
    }
   ],
   "source": [
    "classe = 'other'\n",
    "\n",
    "Z = linkage(data_scaled, metric='cityblock')\n",
    "\n",
    "# calculate full dendrogram\n",
    "plt.figure(figsize=(25, 10))\n",
    "dendrogram(\n",
    "    Z,\n",
    "    labels=list(meta[classe]),\n",
    "    leaf_rotation=90.,  # rotates the x axis labels\n",
    "    leaf_font_size=8.,  # font size for the x axis labels\n",
    ")\n",
    "\n",
    "plt.title('Hierarchical Clustering Dendrogram')\n",
    "plt.ylabel('distance')\n",
    "\n",
    "# Assignment of colors to labels: 'a' is red, 'b' is green, etc.\n",
    "label_colors = {'non-responder': 'r', 'responder': 'g'}\n",
    "ax = plt.gca()\n",
    "xlbls = ax.get_xmajorticklabels()\n",
    "for lbl in xlbls:\n",
    "    lbl.set_color(label_colors[lbl.get_text()])\n",
    "plt.show()\n"
   ]
  },
  {
   "cell_type": "code",
   "execution_count": 25,
   "id": "d1cd7a0d-0ec6-45f4-8e7e-2b70ae8c928e",
   "metadata": {},
   "outputs": [
    {
     "data": {
      "text/html": [
       "<div>\n",
       "<style scoped>\n",
       "    .dataframe tbody tr th:only-of-type {\n",
       "        vertical-align: middle;\n",
       "    }\n",
       "\n",
       "    .dataframe tbody tr th {\n",
       "        vertical-align: top;\n",
       "    }\n",
       "\n",
       "    .dataframe thead th {\n",
       "        text-align: right;\n",
       "    }\n",
       "</style>\n",
       "<table border=\"1\" class=\"dataframe\">\n",
       "  <thead>\n",
       "    <tr style=\"text-align: right;\">\n",
       "      <th>col_0</th>\n",
       "      <th>0</th>\n",
       "      <th>1</th>\n",
       "    </tr>\n",
       "    <tr>\n",
       "      <th>row_0</th>\n",
       "      <th></th>\n",
       "      <th></th>\n",
       "    </tr>\n",
       "  </thead>\n",
       "  <tbody>\n",
       "    <tr>\n",
       "      <th>non-responder</th>\n",
       "      <td>93</td>\n",
       "      <td>1</td>\n",
       "    </tr>\n",
       "    <tr>\n",
       "      <th>responder</th>\n",
       "      <td>26</td>\n",
       "      <td>0</td>\n",
       "    </tr>\n",
       "  </tbody>\n",
       "</table>\n",
       "</div>"
      ],
      "text/plain": [
       "col_0           0  1\n",
       "row_0               \n",
       "non-responder  93  1\n",
       "responder      26  0"
      ]
     },
     "execution_count": 25,
     "metadata": {},
     "output_type": "execute_result"
    }
   ],
   "source": [
    "# clustering hierarquico\n",
    "from sklearn.cluster import AgglomerativeClustering\n",
    "import pandas as pd\n",
    "\n",
    "k=2\n",
    "hclust = AgglomerativeClustering(n_clusters=k, affinity=\"manhattan\", linkage=\"single\")\n",
    "hclust.fit(data_scaled)\n",
    "\n",
    "output_bt = meta[classe].values\n",
    "res_hc = hclust.labels_\n",
    "pd.crosstab(output_bt, res_hc)"
   ]
  },
  {
   "cell_type": "markdown",
   "id": "c3363273-073e-479e-9f16-6ce77b302a51",
   "metadata": {},
   "source": [
    "**Clustering k-means**"
   ]
  },
  {
   "cell_type": "code",
   "execution_count": 26,
   "id": "f908cb57-3524-42c9-850c-579a79fb9eed",
   "metadata": {},
   "outputs": [
    {
     "data": {
      "text/html": [
       "<div>\n",
       "<style scoped>\n",
       "    .dataframe tbody tr th:only-of-type {\n",
       "        vertical-align: middle;\n",
       "    }\n",
       "\n",
       "    .dataframe tbody tr th {\n",
       "        vertical-align: top;\n",
       "    }\n",
       "\n",
       "    .dataframe thead th {\n",
       "        text-align: right;\n",
       "    }\n",
       "</style>\n",
       "<table border=\"1\" class=\"dataframe\">\n",
       "  <thead>\n",
       "    <tr style=\"text-align: right;\">\n",
       "      <th>other</th>\n",
       "      <th>non-responder</th>\n",
       "      <th>responder</th>\n",
       "    </tr>\n",
       "    <tr>\n",
       "      <th>clusters</th>\n",
       "      <th></th>\n",
       "      <th></th>\n",
       "    </tr>\n",
       "  </thead>\n",
       "  <tbody>\n",
       "    <tr>\n",
       "      <th>0</th>\n",
       "      <td>58</td>\n",
       "      <td>13</td>\n",
       "    </tr>\n",
       "    <tr>\n",
       "      <th>1</th>\n",
       "      <td>36</td>\n",
       "      <td>13</td>\n",
       "    </tr>\n",
       "  </tbody>\n",
       "</table>\n",
       "</div>"
      ],
      "text/plain": [
       "other     non-responder  responder\n",
       "clusters                          \n",
       "0                    58         13\n",
       "1                    36         13"
      ]
     },
     "execution_count": 26,
     "metadata": {},
     "output_type": "execute_result"
    }
   ],
   "source": [
    "from sklearn.cluster import KMeans\n",
    "# clustering k-means aos dados, com k = 2\n",
    "k=2\n",
    "\n",
    "kmeans = KMeans(n_clusters=k, max_iter=1000)\n",
    "kmeans.fit(data_scaled)\n",
    "labels = kmeans.labels_\n",
    "centroids = kmeans.cluster_centers_\n",
    "\n",
    "pd.crosstab(labels, meta[classe], rownames=['clusters'] )"
   ]
  },
  {
   "cell_type": "code",
   "execution_count": null,
   "id": "0153355b-5f2c-47cf-af17-d0a5b5848353",
   "metadata": {},
   "outputs": [],
   "source": []
  }
 ],
 "metadata": {
  "kernelspec": {
   "display_name": "Python 3 (ipykernel)",
   "language": "python",
   "name": "python3"
  },
  "language_info": {
   "codemirror_mode": {
    "name": "ipython",
    "version": 3
   },
   "file_extension": ".py",
   "mimetype": "text/x-python",
   "name": "python",
   "nbconvert_exporter": "python",
   "pygments_lexer": "ipython3",
   "version": "3.10.6"
  }
 },
 "nbformat": 4,
 "nbformat_minor": 5
}
