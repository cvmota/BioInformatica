{
 "cells": [
  {
   "cell_type": "markdown",
   "id": "dfbd5c97-b9a0-48a8-9ae2-d25f350e3117",
   "metadata": {},
   "source": [
    "# Bipolar disorder and response to lithium: blood\n",
    "\n",
    "Dataset Files: \n",
    "* gds5393.csv \n",
    "* meta-gds5393.csv\n",
    "\n",
    "**Introdução**\n",
    "\n",
    "O transtorno bipolar é uma condição mental caracterizada por episódios de humor altamente variáveis, com períodos de euforia ou mania (conhecidos como episódios maníacos) alternando com períodos de profunda depressão (conhecidos como episódios depressivos). O tratamento para o transtorno bipolar geralmente inclui terapia e medicação.\n",
    "\n",
    "Um dos medicamentos mais comuns utilizados para tratar o transtorno bipolar é o lítio. O lítio é um mineral que atua como estabilizador de humor e é eficaz na prevenção de episódios maníacos e depressivos em pessoas com transtorno bipolar. Ele funciona ajudando a equilibrar os níveis de determinados químicos no cérebro chamados neurotransmissores, que são responsáveis por transmitir informações entre as células cerebrais.\n",
    "\n",
    "\n",
    "**Sobre o conjunto de dados**\n",
    "\n",
    "O [conjunto de dados](https://www.ncbi.nlm.nih.gov/sites/GDSbrowser?acc=GDS5393) contém 120 amostras e é referente à análise de sangue periférico de pacientes com transtorno bipolar antes e 1 mês após o tratamento com lítio. A resposta dos pacientes ao lítio foi avaliada após 6 meses. Os resultados identificam uma assinatura de expressão gênica para a resposta ao tratamento com lítio em pacientes com transtorno bipolar.\n",
    "\n",
    "Pela análise da [documentação](https://www.ncbi.nlm.nih.gov/geo/tools/profileGraph.cgi?ID=GDS5393) do conjunto de dados verificamos o metadados contém as seguintes colunas:\n",
    "* **sample**: (GSM1105…) - Identificador da amostra. Referente a 120 amostras da colheita de sangue.\n",
    "* **agent**: (control ou lithium) - Indica se a amostra é de um indivíduo de controlo ou se foi submetido ao tratamento com lítio.\n",
    "* **other**: (responder ou non-responder) - Identifica se a amostra é de um indivíduo que respondeu ou não ao tratamento.\n",
    "* **time**: (baseline ou 1 month) - Indica o momento em que a amostra foi colhida.\n",
    "* **individual**: Identificador único do indivíduo, que pode ser OPT_(N) para indivíduos de control e Li+OPT_(N) para indivíduos que receberam lítio. \n",
    "                  Cada indivíduo um tem duas amostras referentes ao momento da recolha (baseline e 1 month).\n",
    "* **description**: Descrição adicional sobre cada amostra.\n"
   ]
  },
  {
   "cell_type": "markdown",
   "id": "59562678-a1c2-410a-a706-8e0ef12ec94c",
   "metadata": {
    "tags": []
   },
   "source": [
    "**Carregamento dados e metadados do dataset**"
   ]
  },
  {
   "cell_type": "code",
   "execution_count": 1,
   "id": "b4f4a033-95b1-4a4d-80db-2da588029f95",
   "metadata": {},
   "outputs": [],
   "source": [
    "# Importar bibliotecas necessárias para o processamento\n",
    "import pandas as pd\n",
    "import numpy as np\n",
    "%matplotlib inline\n",
    "import matplotlib.pyplot as plt\n",
    "\n",
    "from sklearn import preprocessing\n",
    "from scipy.cluster.hierarchy import dendrogram, linkage\n",
    "from sklearn.metrics import accuracy_score\n",
    "\n",
    "# Ler dados usando a lib pandas\n",
    "data = pd.read_csv(\"gds5393.csv\", sep=',', index_col = 0)\n",
    "meta = pd.read_csv(\"meta-gds5393.csv\", sep=',', index_col = 0)"
   ]
  },
  {
   "cell_type": "markdown",
   "id": "74caec21-2ca6-4217-92c4-80ef4d4adef4",
   "metadata": {},
   "source": [
    "#### Preparação dos dados"
   ]
  },
  {
   "cell_type": "code",
   "execution_count": 2,
   "id": "7198c8ec-fcda-4081-9c00-c956d8eeaea8",
   "metadata": {},
   "outputs": [],
   "source": [
    "# remover os genes que têm todos os valores como NaN (dados nulos), para não atrapalharem esta análise\n",
    "data.dropna(inplace = True)"
   ]
  },
  {
   "cell_type": "code",
   "execution_count": 3,
   "id": "e25bc9ae-b63b-4264-9cbd-00fc1f4445c5",
   "metadata": {},
   "outputs": [],
   "source": [
    "# fazer a transporta para termos os dados na forma de uma matriz genes x amostras\n",
    "data = data.transpose()"
   ]
  },
  {
   "cell_type": "code",
   "execution_count": 4,
   "id": "cd02eeb3-de99-4701-8033-dd442a48dc97",
   "metadata": {},
   "outputs": [
    {
     "data": {
      "text/plain": [
       "(120, 47323)"
      ]
     },
     "execution_count": 4,
     "metadata": {},
     "output_type": "execute_result"
    }
   ],
   "source": [
    "# Dimensao dos dados\n",
    "data.values.shape"
   ]
  },
  {
   "cell_type": "markdown",
   "id": "59b19868-9e77-4bfa-93c5-486e42ffbb1e",
   "metadata": {},
   "source": [
    "## **Aprendizagem supervisionada**"
   ]
  },
  {
   "cell_type": "markdown",
   "id": "143906f5-3104-4d10-bedd-a2c86dcb8ec1",
   "metadata": {},
   "source": [
    "Aprendizagem supervisionada é um tipo de aprendizagem de máquina em que o algoritmo aprende com base nas características que o define, ou seja, dados que possuem um objetivo claro definido. O objetivo é prever a classe de um dado de entrada com base nas características desse dado e nas relações existentes com as classes dos dados de treino."
   ]
  },
  {
   "cell_type": "markdown",
   "id": "941b5440-ffc5-4d34-91d7-78a2c1820b4b",
   "metadata": {},
   "source": [
    "Nesta análise, vamos explorar a capacidade de prever as classes mais relevantes deste dataset e analisar se podemos realizar previsões eficazes:\n",
    "* \"other\" - prever a resposta de um indivíduo ao tratamento com lithium\n",
    "* \"agent\" - determinar se a amostra é relativa a um indivíduo em tratamento com litío ou de um indivíduo de controle\n",
    "* \"time\" - identificar se a amostra é de baseline ou após 1 mês de tratamento com litío."
   ]
  },
  {
   "cell_type": "markdown",
   "id": "f57cde42-45dd-444f-89cc-10b90bf30ead",
   "metadata": {},
   "source": [
    "### Modelo de classificação para prever a resposta ao tratamento com lítio - classe 'other'"
   ]
  },
  {
   "cell_type": "markdown",
   "id": "f23661e9-d16b-4953-b982-f1555cdc329d",
   "metadata": {},
   "source": [
    "#### **Pré-processamento**"
   ]
  },
  {
   "cell_type": "markdown",
   "id": "921fc251-4e73-405b-a009-e8ed00502ad4",
   "metadata": {},
   "source": [
    "**Filtragem dos dados**"
   ]
  },
  {
   "cell_type": "code",
   "execution_count": 5,
   "id": "dff81da5-7b37-4d79-9ae3-a4c5f9801adb",
   "metadata": {},
   "outputs": [
    {
     "name": "stdout",
     "output_type": "stream",
     "text": [
      "(120, 22164)\n"
     ]
    }
   ],
   "source": [
    "# Remover genes que variam pouco preservando as features com maior variabilidade\n",
    "threshold = 0.01\n",
    "\n",
    "from sklearn.feature_selection import VarianceThreshold\n",
    "\n",
    "# Remover todas as colunas (genes) que possuem uma variabilidade menor ou igual a 0.5\n",
    "var_threshold = VarianceThreshold(threshold=threshold)\n",
    "x_high_variance = var_threshold.fit_transform(data)\n",
    "\n",
    "# Obter os índices das colunas com alta variância\n",
    "high_variance_columns = data.columns[var_threshold.get_support()]\n",
    "\n",
    "# Criar um novo dataframe apenas com as colunas de alta variância\n",
    "high_variance_data = data[high_variance_columns]\n",
    "print(high_variance_data.shape)"
   ]
  },
  {
   "cell_type": "markdown",
   "id": "c2608007-5f98-4676-811d-a06a1c4a79aa",
   "metadata": {},
   "source": [
    "Geralmente os modelos de aprendizagem máquina devem ser treinados com dados representativos da situação real, sem ruído ou informações irrelevantes. Nesse sentido, a filtragem dos dados é uma forma de alcançar esse objetivo, removendo informação que possa prejudicar a performance do modelo. \n",
    "\n",
    "As estratégias de filtragem dos dados, como VarianceThreshold, SelectKBest e Teste ANOVA, analisadas no ficheiro [tp_gds5393_data_analysis_multi](https://github.com/cvmota/BioInformatica/blob/main/tp_gds5393_data_analysis_multi.ipynb), são úteis para selecionar as melhores características ou atributos dos dados e usar como input para os modelos de treino, com o objetivo de remover características irrelevantes ou ruidosas.\n",
    "\n",
    "No entanto, a filtragem dos dados também pode remover informações úteis dos dados e, neste caso, não temos informação sobre os intervalos de referência de cada um dos indicadores para avaliar a estratégia de filtragem mais adequada e garantir que o modelo tenha acesso às informações relevantes necessárias para realizar as previsões corretamente.\n",
    "\n",
    "Nesse sentido, fizemos alguns testes com diferentes threshold e, tendo em conta também a analise no ficheiro [tp_gds5393_data_analysis_multi](https://github.com/cvmota/BioInformatica/blob/main/tp_gds5393_data_analysis_multi.ipynb), consideramos que na generalidade conseguimos melhores resultados com threshold = 0.01."
   ]
  },
  {
   "cell_type": "code",
   "execution_count": 6,
   "id": "1952ef84-4fa5-4446-a768-43022cf37df8",
   "metadata": {},
   "outputs": [],
   "source": [
    "# standardização dos dados\n",
    "input_sc = preprocessing.scale(high_variance_data)"
   ]
  },
  {
   "cell_type": "markdown",
   "id": "e642868e-c694-4597-9387-48e9c8cb8827",
   "metadata": {},
   "source": [
    "**Divisão do conjunto de dados em dados para treino e dados para teste dos modelos.**"
   ]
  },
  {
   "cell_type": "code",
   "execution_count": 7,
   "id": "c796f709-f1c1-471c-ae3f-92c74d2f5926",
   "metadata": {},
   "outputs": [
    {
     "name": "stdout",
     "output_type": "stream",
     "text": [
      "Separação dos dados para treino e teste\n",
      "Input shape: (120, 22164)\n",
      "Train in shape: (36, 22164)\n",
      "Train out shape: (36,)\n",
      "Test in shape: (84, 22164)\n",
      "Test out shape: (84,)\n"
     ]
    }
   ],
   "source": [
    "classe = 'other'\n",
    "def splitData(classe):\n",
    "    # Obter a lista única de indivíduos\n",
    "    unique_individuals = np.unique(meta['individual'])\n",
    "\n",
    "    # calcular o número de posições para treino e teste para obter mais ou menos 70% dos dados para treino e 30% para testar o modelo\n",
    "    #\n",
    "    num_individuals = len(unique_individuals)\n",
    "    num_train = int(0.7 * num_individuals)\n",
    "    num_test = num_individuals - num_train\n",
    "    # print(num_test)\n",
    "\n",
    "    # Criar um novo DataFrame de saída, com a standardizacao dos dados\n",
    "    input_sc_df = pd.DataFrame(input_sc, index=meta['sample'], columns=high_variance_data.columns)\n",
    "\n",
    "    # Dividir a lista em duas partes para obter os conjuntos de treino e de teste\n",
    "    indices = np.random.permutation(len(unique_individuals))\n",
    "    test_individuals = unique_individuals[indices[:-num_test]]\n",
    "    train_individuals = unique_individuals[indices[-num_test:]]\n",
    "\n",
    "    # Usar a lista de indivíduos de treino para filtrar os dados de treino e de teste\n",
    "    train_indices = meta[meta['individual'].isin(train_individuals)].index\n",
    "    train_in = input_sc_df.loc[train_indices]\n",
    "    train_out = (meta.loc[train_indices])[classe].values\n",
    "\n",
    "    test_indices = meta[meta['individual'].isin(test_individuals)].index\n",
    "    test_in = input_sc_df.loc[test_indices]\n",
    "    test_out = (meta.loc[test_indices])[classe].values\n",
    "    \n",
    "    print(\"Separação dos dados para treino e teste\")\n",
    "    print(\"Input shape:\", input_sc.shape)\n",
    "    print(\"Train in shape:\", train_in.shape)\n",
    "    print(\"Train out shape:\", train_out.shape)\n",
    "    print(\"Test in shape:\", test_in.shape)\n",
    "    print(\"Test out shape:\", test_out.shape)\n",
    "    return train_in, train_out, test_in, test_out\n",
    "\n",
    "train_in, train_out, test_in, test_out = splitData(classe)"
   ]
  },
  {
   "cell_type": "markdown",
   "id": "c419ead0-ff43-4684-81c2-b49adc3e2df0",
   "metadata": {},
   "source": [
    "#### **Modelação**\n",
    "Criação de modelos supervisionados de aprendizagem máquina."
   ]
  },
  {
   "cell_type": "markdown",
   "id": "6b2f7dfb-86c1-423d-83db-f6192099100c",
   "metadata": {},
   "source": [
    "**Árvore de decisão**"
   ]
  },
  {
   "cell_type": "code",
   "execution_count": 8,
   "id": "f4a79bf7-debb-46c7-9a7a-47e7f95f7abe",
   "metadata": {},
   "outputs": [
    {
     "name": "stdout",
     "output_type": "stream",
     "text": [
      "\n",
      "Árvore de decisão\n",
      "Valores previstos:  ['non-responder' 'non-responder' 'non-responder' 'non-responder'\n",
      " 'non-responder' 'non-responder' 'non-responder' 'non-responder'\n",
      " 'non-responder' 'responder' 'non-responder' 'non-responder'\n",
      " 'non-responder' 'non-responder' 'non-responder' 'non-responder'\n",
      " 'non-responder' 'non-responder' 'non-responder' 'non-responder'\n",
      " 'non-responder' 'non-responder' 'non-responder' 'non-responder'\n",
      " 'non-responder' 'non-responder' 'non-responder' 'non-responder'\n",
      " 'non-responder' 'responder' 'non-responder' 'responder' 'non-responder'\n",
      " 'non-responder' 'non-responder' 'non-responder' 'non-responder'\n",
      " 'non-responder' 'non-responder' 'non-responder' 'non-responder'\n",
      " 'non-responder' 'non-responder' 'non-responder' 'non-responder'\n",
      " 'non-responder' 'responder' 'non-responder' 'responder' 'non-responder'\n",
      " 'non-responder' 'non-responder' 'non-responder' 'non-responder'\n",
      " 'non-responder' 'non-responder' 'non-responder' 'non-responder'\n",
      " 'non-responder' 'non-responder' 'responder' 'responder' 'non-responder'\n",
      " 'non-responder' 'non-responder' 'non-responder' 'non-responder'\n",
      " 'non-responder' 'non-responder' 'non-responder' 'non-responder'\n",
      " 'non-responder' 'non-responder' 'non-responder' 'non-responder'\n",
      " 'non-responder' 'non-responder' 'non-responder' 'non-responder'\n",
      " 'non-responder' 'non-responder' 'non-responder' 'non-responder'\n",
      " 'non-responder']\n",
      "Valores reais:  ['non-responder' 'non-responder' 'non-responder' 'non-responder'\n",
      " 'non-responder' 'non-responder' 'non-responder' 'non-responder'\n",
      " 'non-responder' 'non-responder' 'non-responder' 'non-responder'\n",
      " 'non-responder' 'non-responder' 'non-responder' 'non-responder'\n",
      " 'non-responder' 'non-responder' 'non-responder' 'non-responder'\n",
      " 'non-responder' 'non-responder' 'non-responder' 'non-responder'\n",
      " 'non-responder' 'non-responder' 'non-responder' 'non-responder'\n",
      " 'non-responder' 'non-responder' 'non-responder' 'non-responder'\n",
      " 'non-responder' 'non-responder' 'non-responder' 'non-responder'\n",
      " 'non-responder' 'non-responder' 'non-responder' 'non-responder'\n",
      " 'responder' 'responder' 'responder' 'responder' 'non-responder'\n",
      " 'non-responder' 'non-responder' 'non-responder' 'non-responder'\n",
      " 'non-responder' 'non-responder' 'non-responder' 'non-responder'\n",
      " 'non-responder' 'non-responder' 'non-responder' 'non-responder'\n",
      " 'non-responder' 'non-responder' 'non-responder' 'non-responder'\n",
      " 'non-responder' 'non-responder' 'non-responder' 'non-responder'\n",
      " 'non-responder' 'non-responder' 'non-responder' 'responder' 'responder'\n",
      " 'responder' 'responder' 'responder' 'responder' 'responder' 'responder'\n",
      " 'responder' 'responder' 'responder' 'responder' 'responder' 'responder'\n",
      " 'responder' 'responder']\n"
     ]
    }
   ],
   "source": [
    "from sklearn import tree\n",
    "\n",
    "def tree_model_training(train_in, train_out, test_in, test_out):\n",
    "    tree_model = tree.DecisionTreeClassifier()\n",
    "    tree_model = tree_model.fit(train_in, train_out)\n",
    "    tree_pred = tree_model.predict(test_in)\n",
    "    print(\"\\nÁrvore de decisão\")\n",
    "    print(\"Valores previstos: \", tree_pred)\n",
    "    print(\"Valores reais: \" , test_out)\n",
    "    return tree_model, tree_pred\n",
    "\n",
    "tree_model, tree_pred = tree_model_training(train_in, train_out, test_in, test_out)"
   ]
  },
  {
   "cell_type": "markdown",
   "id": "def96ea0-e510-4ad1-bd0b-7e30eeea0db7",
   "metadata": {},
   "source": [
    "**SVM**"
   ]
  },
  {
   "cell_type": "code",
   "execution_count": 9,
   "id": "7753a40c-a1f7-4bd4-9404-df07b4a95692",
   "metadata": {},
   "outputs": [
    {
     "name": "stdout",
     "output_type": "stream",
     "text": [
      "\n",
      "SVM\n",
      "Valores previstos:  ['non-responder' 'non-responder' 'non-responder' 'non-responder'\n",
      " 'non-responder' 'non-responder' 'non-responder' 'non-responder'\n",
      " 'non-responder' 'non-responder' 'non-responder' 'non-responder'\n",
      " 'non-responder' 'non-responder' 'non-responder' 'non-responder'\n",
      " 'non-responder' 'non-responder' 'non-responder' 'non-responder'\n",
      " 'non-responder' 'non-responder' 'non-responder' 'non-responder'\n",
      " 'non-responder' 'non-responder' 'non-responder' 'non-responder'\n",
      " 'non-responder' 'non-responder' 'non-responder' 'non-responder'\n",
      " 'non-responder' 'non-responder' 'non-responder' 'non-responder'\n",
      " 'non-responder' 'non-responder' 'non-responder' 'non-responder'\n",
      " 'non-responder' 'non-responder' 'non-responder' 'non-responder'\n",
      " 'non-responder' 'non-responder' 'non-responder' 'non-responder'\n",
      " 'non-responder' 'non-responder' 'non-responder' 'non-responder'\n",
      " 'non-responder' 'non-responder' 'non-responder' 'non-responder'\n",
      " 'non-responder' 'non-responder' 'non-responder' 'non-responder'\n",
      " 'non-responder' 'non-responder' 'non-responder' 'non-responder'\n",
      " 'non-responder' 'non-responder' 'non-responder' 'non-responder'\n",
      " 'non-responder' 'non-responder' 'non-responder' 'non-responder'\n",
      " 'non-responder' 'non-responder' 'non-responder' 'non-responder'\n",
      " 'non-responder' 'non-responder' 'non-responder' 'non-responder'\n",
      " 'non-responder' 'non-responder' 'non-responder' 'non-responder']\n",
      "Valores reais:  ['non-responder' 'non-responder' 'non-responder' 'non-responder'\n",
      " 'non-responder' 'non-responder' 'non-responder' 'non-responder'\n",
      " 'non-responder' 'non-responder' 'non-responder' 'non-responder'\n",
      " 'non-responder' 'non-responder' 'non-responder' 'non-responder'\n",
      " 'non-responder' 'non-responder' 'non-responder' 'non-responder'\n",
      " 'non-responder' 'non-responder' 'non-responder' 'non-responder'\n",
      " 'non-responder' 'non-responder' 'non-responder' 'non-responder'\n",
      " 'non-responder' 'non-responder' 'non-responder' 'non-responder'\n",
      " 'non-responder' 'non-responder' 'non-responder' 'non-responder'\n",
      " 'non-responder' 'non-responder' 'non-responder' 'non-responder'\n",
      " 'responder' 'responder' 'responder' 'responder' 'non-responder'\n",
      " 'non-responder' 'non-responder' 'non-responder' 'non-responder'\n",
      " 'non-responder' 'non-responder' 'non-responder' 'non-responder'\n",
      " 'non-responder' 'non-responder' 'non-responder' 'non-responder'\n",
      " 'non-responder' 'non-responder' 'non-responder' 'non-responder'\n",
      " 'non-responder' 'non-responder' 'non-responder' 'non-responder'\n",
      " 'non-responder' 'non-responder' 'non-responder' 'responder' 'responder'\n",
      " 'responder' 'responder' 'responder' 'responder' 'responder' 'responder'\n",
      " 'responder' 'responder' 'responder' 'responder' 'responder' 'responder'\n",
      " 'responder' 'responder']\n"
     ]
    }
   ],
   "source": [
    "from sklearn import svm\n",
    "\n",
    "def svm_model_training(train_in, train_out, test_in, test_out):\n",
    "    clf = svm.SVC(gamma=0.001, C=100.)\n",
    "    svm_model = clf.fit(train_in, train_out)\n",
    "    svm_pred = clf.predict(test_in)\n",
    "    print(\"\\nSVM\")\n",
    "    print(\"Valores previstos: \" , svm_pred)\n",
    "    print(\"Valores reais: \" , test_out)\n",
    "    return svm_model, svm_pred\n",
    "\n",
    "svm_model, svm_pred = svm_model_training(train_in, train_out, test_in, test_out)"
   ]
  },
  {
   "cell_type": "markdown",
   "id": "34adc9c4-e8c1-46f3-b769-e3549e666471",
   "metadata": {},
   "source": [
    "**Naive Bayes**"
   ]
  },
  {
   "cell_type": "code",
   "execution_count": 10,
   "id": "f5989307-25d5-4fa5-a244-d3a4fcc94522",
   "metadata": {},
   "outputs": [
    {
     "name": "stdout",
     "output_type": "stream",
     "text": [
      "\n",
      "Naive Bayes\n",
      "Valores previstos:  ['non-responder' 'non-responder' 'non-responder' 'non-responder'\n",
      " 'non-responder' 'non-responder' 'non-responder' 'non-responder'\n",
      " 'non-responder' 'non-responder' 'non-responder' 'non-responder'\n",
      " 'non-responder' 'non-responder' 'non-responder' 'non-responder'\n",
      " 'non-responder' 'non-responder' 'non-responder' 'non-responder'\n",
      " 'non-responder' 'non-responder' 'non-responder' 'non-responder'\n",
      " 'non-responder' 'non-responder' 'non-responder' 'non-responder'\n",
      " 'non-responder' 'non-responder' 'non-responder' 'non-responder'\n",
      " 'non-responder' 'non-responder' 'non-responder' 'non-responder'\n",
      " 'non-responder' 'non-responder' 'non-responder' 'non-responder'\n",
      " 'non-responder' 'non-responder' 'non-responder' 'non-responder'\n",
      " 'non-responder' 'non-responder' 'non-responder' 'non-responder'\n",
      " 'non-responder' 'non-responder' 'non-responder' 'non-responder'\n",
      " 'non-responder' 'non-responder' 'non-responder' 'non-responder'\n",
      " 'non-responder' 'non-responder' 'non-responder' 'non-responder'\n",
      " 'non-responder' 'non-responder' 'non-responder' 'non-responder'\n",
      " 'non-responder' 'non-responder' 'non-responder' 'non-responder'\n",
      " 'non-responder' 'non-responder' 'non-responder' 'non-responder'\n",
      " 'non-responder' 'non-responder' 'non-responder' 'non-responder'\n",
      " 'non-responder' 'non-responder' 'non-responder' 'non-responder'\n",
      " 'non-responder' 'non-responder' 'non-responder' 'non-responder']\n",
      "Valores reais:  ['non-responder' 'non-responder' 'non-responder' 'non-responder'\n",
      " 'non-responder' 'non-responder' 'non-responder' 'non-responder'\n",
      " 'non-responder' 'non-responder' 'non-responder' 'non-responder'\n",
      " 'non-responder' 'non-responder' 'non-responder' 'non-responder'\n",
      " 'non-responder' 'non-responder' 'non-responder' 'non-responder'\n",
      " 'non-responder' 'non-responder' 'non-responder' 'non-responder'\n",
      " 'non-responder' 'non-responder' 'non-responder' 'non-responder'\n",
      " 'non-responder' 'non-responder' 'non-responder' 'non-responder'\n",
      " 'non-responder' 'non-responder' 'non-responder' 'non-responder'\n",
      " 'non-responder' 'non-responder' 'non-responder' 'non-responder'\n",
      " 'responder' 'responder' 'responder' 'responder' 'non-responder'\n",
      " 'non-responder' 'non-responder' 'non-responder' 'non-responder'\n",
      " 'non-responder' 'non-responder' 'non-responder' 'non-responder'\n",
      " 'non-responder' 'non-responder' 'non-responder' 'non-responder'\n",
      " 'non-responder' 'non-responder' 'non-responder' 'non-responder'\n",
      " 'non-responder' 'non-responder' 'non-responder' 'non-responder'\n",
      " 'non-responder' 'non-responder' 'non-responder' 'responder' 'responder'\n",
      " 'responder' 'responder' 'responder' 'responder' 'responder' 'responder'\n",
      " 'responder' 'responder' 'responder' 'responder' 'responder' 'responder'\n",
      " 'responder' 'responder']\n"
     ]
    }
   ],
   "source": [
    "from sklearn.naive_bayes import GaussianNB\n",
    "\n",
    "def gnb_model_training(train_in, train_out, test_in, test_out):\n",
    "    gnb_model = GaussianNB()\n",
    "    gnb_model = gnb_model.fit(train_in, train_out)\n",
    "    gnb_pred = gnb_model.predict(test_in)\n",
    "    print(\"\\nNaive Bayes\")\n",
    "    print(\"Valores previstos: \" , gnb_pred)\n",
    "    print(\"Valores reais: \" , test_out)\n",
    "    return gnb_model, gnb_pred\n",
    "\n",
    "gnb_model, gnb_pred = gnb_model_training(train_in, train_out, test_in, test_out)"
   ]
  },
  {
   "cell_type": "markdown",
   "id": "82feef4a-5b37-40f2-a2b5-cfa377f09704",
   "metadata": {},
   "source": [
    "**Regressão Logística**"
   ]
  },
  {
   "cell_type": "code",
   "execution_count": 11,
   "id": "3df370f0-0653-429b-96e4-dcb71d6c8c7f",
   "metadata": {},
   "outputs": [
    {
     "name": "stdout",
     "output_type": "stream",
     "text": [
      "\n",
      "Regressão Logística\n",
      "Valores previstos:  ['non-responder' 'non-responder' 'responder' 'non-responder' 'responder'\n",
      " 'responder' 'responder' 'non-responder' 'responder' 'responder'\n",
      " 'responder' 'responder' 'responder' 'non-responder' 'responder'\n",
      " 'responder' 'responder' 'non-responder' 'non-responder' 'non-responder'\n",
      " 'responder' 'non-responder' 'responder' 'responder' 'responder'\n",
      " 'responder' 'responder' 'non-responder' 'responder' 'responder'\n",
      " 'non-responder' 'responder' 'responder' 'non-responder' 'responder'\n",
      " 'responder' 'non-responder' 'responder' 'responder' 'non-responder'\n",
      " 'responder' 'responder' 'responder' 'responder' 'non-responder'\n",
      " 'responder' 'responder' 'non-responder' 'responder' 'responder'\n",
      " 'non-responder' 'responder' 'responder' 'responder' 'responder'\n",
      " 'responder' 'non-responder' 'non-responder' 'non-responder' 'responder'\n",
      " 'responder' 'responder' 'non-responder' 'non-responder' 'responder'\n",
      " 'responder' 'responder' 'responder' 'non-responder' 'non-responder'\n",
      " 'responder' 'responder' 'responder' 'non-responder' 'non-responder'\n",
      " 'responder' 'non-responder' 'non-responder' 'responder' 'responder'\n",
      " 'responder' 'non-responder' 'non-responder' 'responder']\n",
      "Valores reais:  ['non-responder' 'non-responder' 'non-responder' 'non-responder'\n",
      " 'non-responder' 'non-responder' 'non-responder' 'non-responder'\n",
      " 'non-responder' 'non-responder' 'non-responder' 'non-responder'\n",
      " 'non-responder' 'non-responder' 'non-responder' 'non-responder'\n",
      " 'non-responder' 'non-responder' 'non-responder' 'non-responder'\n",
      " 'non-responder' 'non-responder' 'non-responder' 'non-responder'\n",
      " 'non-responder' 'non-responder' 'non-responder' 'non-responder'\n",
      " 'non-responder' 'non-responder' 'non-responder' 'non-responder'\n",
      " 'non-responder' 'non-responder' 'non-responder' 'non-responder'\n",
      " 'non-responder' 'non-responder' 'non-responder' 'non-responder'\n",
      " 'responder' 'responder' 'responder' 'responder' 'non-responder'\n",
      " 'non-responder' 'non-responder' 'non-responder' 'non-responder'\n",
      " 'non-responder' 'non-responder' 'non-responder' 'non-responder'\n",
      " 'non-responder' 'non-responder' 'non-responder' 'non-responder'\n",
      " 'non-responder' 'non-responder' 'non-responder' 'non-responder'\n",
      " 'non-responder' 'non-responder' 'non-responder' 'non-responder'\n",
      " 'non-responder' 'non-responder' 'non-responder' 'responder' 'responder'\n",
      " 'responder' 'responder' 'responder' 'responder' 'responder' 'responder'\n",
      " 'responder' 'responder' 'responder' 'responder' 'responder' 'responder'\n",
      " 'responder' 'responder']\n"
     ]
    }
   ],
   "source": [
    "from sklearn import linear_model\n",
    "\n",
    "def logistic_model_training(train_in, train_out, test_in, test_out):\n",
    "    logistic_model = linear_model.LogisticRegression(C=1e5, solver = \"liblinear\", multi_class = \"auto\")\n",
    "    logistic_model = logistic_model.fit(train_in, train_out)\n",
    "    logistic_pred =  logistic_model.predict(test_in)\n",
    "    print(\"\\nRegressão Logística\")\n",
    "    print(\"Valores previstos: \" , logistic_pred)\n",
    "    print(\"Valores reais: \" , test_out)\n",
    "    return logistic_model, logistic_pred\n",
    "\n",
    "logistic_model, logistic_pred = logistic_model_training(train_in, train_out, test_in, test_out)"
   ]
  },
  {
   "cell_type": "markdown",
   "id": "afa38dad-aedb-41ec-b3ae-70050c70f922",
   "metadata": {},
   "source": [
    "**KNeighbors - Método dos k vizinhos mais próximos**"
   ]
  },
  {
   "cell_type": "code",
   "execution_count": 12,
   "id": "96ca1b10-2b33-4960-93d5-2f7467c3a952",
   "metadata": {},
   "outputs": [
    {
     "name": "stdout",
     "output_type": "stream",
     "text": [
      "\n",
      "KNeighbors\n",
      "Valores previstos:\n",
      " ['non-responder' 'non-responder' 'non-responder' 'non-responder'\n",
      " 'non-responder' 'non-responder' 'non-responder' 'non-responder'\n",
      " 'non-responder' 'non-responder' 'non-responder' 'responder'\n",
      " 'non-responder' 'non-responder' 'non-responder' 'non-responder'\n",
      " 'non-responder' 'non-responder' 'non-responder' 'non-responder'\n",
      " 'non-responder' 'non-responder' 'non-responder' 'non-responder'\n",
      " 'non-responder' 'non-responder' 'non-responder' 'non-responder'\n",
      " 'non-responder' 'non-responder' 'non-responder' 'responder'\n",
      " 'non-responder' 'non-responder' 'non-responder' 'non-responder'\n",
      " 'non-responder' 'non-responder' 'non-responder' 'non-responder'\n",
      " 'non-responder' 'responder' 'non-responder' 'non-responder'\n",
      " 'non-responder' 'non-responder' 'non-responder' 'non-responder'\n",
      " 'non-responder' 'non-responder' 'non-responder' 'non-responder'\n",
      " 'non-responder' 'non-responder' 'non-responder' 'non-responder'\n",
      " 'non-responder' 'non-responder' 'non-responder' 'non-responder'\n",
      " 'non-responder' 'non-responder' 'non-responder' 'non-responder'\n",
      " 'responder' 'non-responder' 'non-responder' 'non-responder'\n",
      " 'non-responder' 'non-responder' 'non-responder' 'non-responder'\n",
      " 'non-responder' 'non-responder' 'non-responder' 'non-responder'\n",
      " 'non-responder' 'non-responder' 'non-responder' 'non-responder'\n",
      " 'non-responder' 'non-responder' 'non-responder' 'non-responder']\n",
      "Valores reais:\n",
      " ['non-responder' 'non-responder' 'non-responder' 'non-responder'\n",
      " 'non-responder' 'non-responder' 'non-responder' 'non-responder'\n",
      " 'non-responder' 'non-responder' 'non-responder' 'non-responder'\n",
      " 'non-responder' 'non-responder' 'non-responder' 'non-responder'\n",
      " 'non-responder' 'non-responder' 'non-responder' 'non-responder'\n",
      " 'non-responder' 'non-responder' 'non-responder' 'non-responder'\n",
      " 'non-responder' 'non-responder' 'non-responder' 'non-responder'\n",
      " 'non-responder' 'non-responder' 'non-responder' 'non-responder'\n",
      " 'non-responder' 'non-responder' 'non-responder' 'non-responder'\n",
      " 'non-responder' 'non-responder' 'non-responder' 'non-responder'\n",
      " 'responder' 'responder' 'responder' 'responder' 'non-responder'\n",
      " 'non-responder' 'non-responder' 'non-responder' 'non-responder'\n",
      " 'non-responder' 'non-responder' 'non-responder' 'non-responder'\n",
      " 'non-responder' 'non-responder' 'non-responder' 'non-responder'\n",
      " 'non-responder' 'non-responder' 'non-responder' 'non-responder'\n",
      " 'non-responder' 'non-responder' 'non-responder' 'non-responder'\n",
      " 'non-responder' 'non-responder' 'non-responder' 'responder' 'responder'\n",
      " 'responder' 'responder' 'responder' 'responder' 'responder' 'responder'\n",
      " 'responder' 'responder' 'responder' 'responder' 'responder' 'responder'\n",
      " 'responder' 'responder']\n"
     ]
    }
   ],
   "source": [
    "from sklearn.neighbors import KNeighborsClassifier\n",
    "\n",
    "def knn_model_training(train_in, train_out, test_in, test_out):\n",
    "    knn_model = KNeighborsClassifier()\n",
    "    knn_model = knn_model.fit(train_in, train_out)\n",
    "    knn_pred = knn_model.predict(test_in)\n",
    "    print(\"\\nKNeighbors\")\n",
    "    print(\"Valores previstos:\\n\" , knn_pred)\n",
    "    print(\"Valores reais:\\n\" , test_out)\n",
    "    return knn_model, knn_pred\n",
    "\n",
    "knn_model, knn_pred = knn_model_training(train_in, train_out, test_in, test_out)"
   ]
  },
  {
   "cell_type": "markdown",
   "id": "1652b0e3-3730-4865-b845-61baf5f398b6",
   "metadata": {},
   "source": [
    "#### **Avaliação do modelo**"
   ]
  },
  {
   "cell_type": "code",
   "execution_count": 13,
   "id": "21db11fe-ac47-450d-9363-d72e3ad6534d",
   "metadata": {},
   "outputs": [
    {
     "name": "stdout",
     "output_type": "stream",
     "text": [
      "\n",
      "Percentagem de exemplos corretamente previstos\n",
      "Decision Tree: 0.6785714285714286\n",
      "SVMs: 0.7619047619047619\n",
      "Naive Bayes: 0.7619047619047619\n",
      "Regressão Logística: 0.40476190476190477\n",
      "KNeighbors: 0.7380952380952381\n"
     ]
    }
   ],
   "source": [
    "def model_evaluation(test_out, tree_pred, svm_pred, gnb_pred, knn_pred):\n",
    "    print(\"\\nPercentagem de exemplos corretamente previstos\")\n",
    "    print(\"Decision Tree:\", accuracy_score(test_out, tree_pred))\n",
    "    print(\"SVMs:\", accuracy_score(test_out, svm_pred))\n",
    "    print(\"Naive Bayes:\", accuracy_score(test_out, gnb_pred))\n",
    "    print(\"Regressão Logística:\", accuracy_score(test_out, logistic_pred))\n",
    "    print(\"KNeighbors:\", accuracy_score(test_out, knn_pred))\n",
    "\n",
    "model_evaluation(test_out, tree_pred, svm_pred, gnb_pred, knn_pred)"
   ]
  },
  {
   "cell_type": "markdown",
   "id": "4df442a5-9f60-45c5-bcc0-9f544c0d56d8",
   "metadata": {},
   "source": [
    "A partir dos resultados obtidos, podemos concluir que o modelos SVM e o modelo Naive Bayes são os que apresentam o melhor desempenho para prever a resposta de um indivíduo ao lithium, com uma percentagem de 76.19%.\n",
    "\n",
    "O modelo KNeighbors também apresentou uma performance aceitável, com uma acurácia de cerca de 73.81%.\n",
    "\n",
    "Por outro lado, o modelo de Regressão Logística apresentou o pior desempenho, com uma percentagem de apenas 40,47%. Isto pode indicar que este modelo não é adequado para esse tipo de problema ou que os dados não estão devidamente representados pela classe utilizada.\n",
    "\n",
    "De seguida, vamos usar uma validação cruzada com, 5 partições, para analisar o desempenho dos dois melhores modelos a fim de ajudar a avaliar a estabilidade e a confiabilidade dos modelos, fornecendo uma estimativa mais precisa da performance deles em dados não vistos."
   ]
  },
  {
   "cell_type": "code",
   "execution_count": 14,
   "id": "2b0838a4-a542-4468-8987-6982251a1115",
   "metadata": {},
   "outputs": [
    {
     "name": "stdout",
     "output_type": "stream",
     "text": [
      "GaussianNB()\n",
      "[0.83333333 0.83333333 0.75       0.75       0.79166667]\n",
      "0.7916666666666667\n",
      "SVC(C=100.0, gamma=0.001)\n",
      "[0.79166667 0.79166667 0.79166667 0.79166667 0.75      ]\n",
      "0.7833333333333333\n"
     ]
    }
   ],
   "source": [
    "from sklearn.model_selection import cross_val_score\n",
    "\n",
    "def model_cross_val_score(classe, modelA, modelB):\n",
    "    meta_values = meta[classe].values\n",
    "\n",
    "    print(modelA)\n",
    "    scores = cross_val_score(modelA, input_sc, meta_values, cv = 5)\n",
    "    print(scores)\n",
    "    print(scores.mean())\n",
    "\n",
    "    print(modelB)\n",
    "    scores = cross_val_score(modelB, input_sc, meta_values, cv = 5)\n",
    "    print(scores)\n",
    "    print(scores.mean())\n",
    "\n",
    "model_cross_val_score(classe, gnb_model, svm_model)"
   ]
  },
  {
   "cell_type": "markdown",
   "id": "430c14f6-985a-4dde-a85d-2f7f3868d7e9",
   "metadata": {},
   "source": [
    "A partir dos resultados da validação cruzada, podemos concluir que o melhor modelo para prever a resposta de um indivíduo ao lithium é o modelo Naive Baye, com uma acurácia média de aproximadamente 79.17%. Já o modelo SVC tem uma acurácia média de aproximadamente 78,33%.\n",
    "\n",
    "Avaliando o desempenho dos dois melhores modelos na validação cruzada, vemos que ambos apresentam uma boa acurácia, o que sugere que os modelos foram bem treinados e que eles são capazes de prever a resposta de um indivíduo ao lithium com uma boa precisão. \n",
    "\n",
    "No entanto, apesar de terem acurácias elevadas, estas métricas podem não representar totalmente a qualidade do modelo, dado que, os valores apresentados são relativos à média de apenas cinco validações cruzadas, querendo isto dizer que a acurácia real do modelo pode ser diferente com outros conjuntos de dados."
   ]
  },
  {
   "cell_type": "markdown",
   "id": "98e0ffc9-ee06-4021-aeda-93d2a2c9de39",
   "metadata": {},
   "source": [
    "**De seguida, vamos repetir as várias etapas para aprendizagem máquina para a analise das restantes classes.**"
   ]
  },
  {
   "cell_type": "markdown",
   "id": "df178fd5-dfeb-4990-903e-b52be2bbaa6f",
   "metadata": {},
   "source": [
    "### Modelo de previsão baseada no tipo de agente (lithium ou controle) - classe \"agent\""
   ]
  },
  {
   "cell_type": "code",
   "execution_count": 15,
   "id": "d79883a4-b392-4d21-a2bd-e9b3c1f33091",
   "metadata": {},
   "outputs": [
    {
     "name": "stdout",
     "output_type": "stream",
     "text": [
      "Separação dos dados para treino e teste\n",
      "Input shape: (120, 22164)\n",
      "Train in shape: (36, 22164)\n",
      "Train out shape: (36,)\n",
      "Test in shape: (84, 22164)\n",
      "Test out shape: (84,)\n",
      "\n",
      "Árvore de decisão\n",
      "Valores previstos:  ['control' 'lithium' 'control' 'control' 'lithium' 'control' 'control'\n",
      " 'lithium' 'control' 'control' 'control' 'lithium' 'lithium' 'lithium'\n",
      " 'lithium' 'lithium' 'lithium' 'lithium' 'lithium' 'lithium' 'lithium'\n",
      " 'control' 'lithium' 'control' 'control' 'lithium' 'lithium' 'lithium'\n",
      " 'lithium' 'lithium' 'lithium' 'lithium' 'control' 'lithium' 'lithium'\n",
      " 'lithium' 'control' 'lithium' 'control' 'control' 'lithium' 'control'\n",
      " 'lithium' 'control' 'lithium' 'control' 'lithium' 'control' 'lithium'\n",
      " 'lithium' 'control' 'control' 'lithium' 'lithium' 'lithium' 'lithium'\n",
      " 'control' 'lithium' 'lithium' 'lithium' 'lithium' 'control' 'lithium'\n",
      " 'lithium' 'lithium' 'control' 'lithium' 'lithium' 'lithium' 'lithium'\n",
      " 'control' 'lithium' 'control' 'lithium' 'lithium' 'lithium' 'lithium'\n",
      " 'lithium' 'control' 'lithium' 'control' 'lithium' 'lithium' 'lithium']\n",
      "Valores reais:  ['control' 'control' 'control' 'control' 'control' 'control' 'control'\n",
      " 'control' 'control' 'control' 'control' 'control' 'control' 'control'\n",
      " 'control' 'control' 'control' 'control' 'control' 'control' 'control'\n",
      " 'control' 'control' 'control' 'control' 'control' 'control' 'control'\n",
      " 'control' 'control' 'control' 'control' 'control' 'control' 'control'\n",
      " 'control' 'control' 'control' 'control' 'control' 'control' 'control'\n",
      " 'lithium' 'lithium' 'lithium' 'lithium' 'lithium' 'lithium' 'lithium'\n",
      " 'lithium' 'lithium' 'lithium' 'lithium' 'lithium' 'lithium' 'lithium'\n",
      " 'lithium' 'lithium' 'lithium' 'lithium' 'lithium' 'lithium' 'lithium'\n",
      " 'lithium' 'lithium' 'lithium' 'lithium' 'lithium' 'lithium' 'lithium'\n",
      " 'lithium' 'lithium' 'lithium' 'lithium' 'lithium' 'lithium' 'lithium'\n",
      " 'lithium' 'lithium' 'lithium' 'lithium' 'lithium' 'lithium' 'lithium']\n",
      "\n",
      "SVM\n",
      "Valores previstos:  ['control' 'control' 'control' 'control' 'control' 'control' 'control'\n",
      " 'control' 'control' 'control' 'control' 'control' 'control' 'control'\n",
      " 'control' 'control' 'control' 'control' 'control' 'control' 'control'\n",
      " 'control' 'control' 'control' 'control' 'control' 'control' 'control'\n",
      " 'control' 'control' 'control' 'control' 'control' 'control' 'control'\n",
      " 'control' 'control' 'control' 'control' 'control' 'control' 'control'\n",
      " 'control' 'control' 'control' 'control' 'control' 'control' 'control'\n",
      " 'control' 'control' 'control' 'control' 'control' 'control' 'control'\n",
      " 'control' 'control' 'control' 'control' 'control' 'control' 'control'\n",
      " 'control' 'control' 'control' 'control' 'control' 'control' 'control'\n",
      " 'control' 'control' 'control' 'control' 'control' 'control' 'control'\n",
      " 'control' 'control' 'control' 'control' 'control' 'control' 'control']\n",
      "Valores reais:  ['control' 'control' 'control' 'control' 'control' 'control' 'control'\n",
      " 'control' 'control' 'control' 'control' 'control' 'control' 'control'\n",
      " 'control' 'control' 'control' 'control' 'control' 'control' 'control'\n",
      " 'control' 'control' 'control' 'control' 'control' 'control' 'control'\n",
      " 'control' 'control' 'control' 'control' 'control' 'control' 'control'\n",
      " 'control' 'control' 'control' 'control' 'control' 'control' 'control'\n",
      " 'lithium' 'lithium' 'lithium' 'lithium' 'lithium' 'lithium' 'lithium'\n",
      " 'lithium' 'lithium' 'lithium' 'lithium' 'lithium' 'lithium' 'lithium'\n",
      " 'lithium' 'lithium' 'lithium' 'lithium' 'lithium' 'lithium' 'lithium'\n",
      " 'lithium' 'lithium' 'lithium' 'lithium' 'lithium' 'lithium' 'lithium'\n",
      " 'lithium' 'lithium' 'lithium' 'lithium' 'lithium' 'lithium' 'lithium'\n",
      " 'lithium' 'lithium' 'lithium' 'lithium' 'lithium' 'lithium' 'lithium']\n",
      "\n",
      "Naive Bayes\n",
      "Valores previstos:  ['control' 'lithium' 'control' 'lithium' 'control' 'control' 'control'\n",
      " 'control' 'control' 'control' 'control' 'lithium' 'control' 'lithium'\n",
      " 'lithium' 'lithium' 'lithium' 'lithium' 'control' 'control' 'control'\n",
      " 'control' 'control' 'control' 'control' 'lithium' 'lithium' 'control'\n",
      " 'control' 'lithium' 'lithium' 'lithium' 'control' 'lithium' 'control'\n",
      " 'control' 'control' 'lithium' 'control' 'control' 'control' 'control'\n",
      " 'control' 'control' 'control' 'control' 'lithium' 'control' 'control'\n",
      " 'lithium' 'control' 'control' 'lithium' 'lithium' 'lithium' 'control'\n",
      " 'control' 'control' 'control' 'control' 'lithium' 'control' 'control'\n",
      " 'control' 'control' 'control' 'lithium' 'lithium' 'lithium' 'control'\n",
      " 'lithium' 'control' 'control' 'control' 'control' 'lithium' 'lithium'\n",
      " 'lithium' 'control' 'control' 'control' 'control' 'control' 'control']\n",
      "Valores reais:  ['control' 'control' 'control' 'control' 'control' 'control' 'control'\n",
      " 'control' 'control' 'control' 'control' 'control' 'control' 'control'\n",
      " 'control' 'control' 'control' 'control' 'control' 'control' 'control'\n",
      " 'control' 'control' 'control' 'control' 'control' 'control' 'control'\n",
      " 'control' 'control' 'control' 'control' 'control' 'control' 'control'\n",
      " 'control' 'control' 'control' 'control' 'control' 'control' 'control'\n",
      " 'lithium' 'lithium' 'lithium' 'lithium' 'lithium' 'lithium' 'lithium'\n",
      " 'lithium' 'lithium' 'lithium' 'lithium' 'lithium' 'lithium' 'lithium'\n",
      " 'lithium' 'lithium' 'lithium' 'lithium' 'lithium' 'lithium' 'lithium'\n",
      " 'lithium' 'lithium' 'lithium' 'lithium' 'lithium' 'lithium' 'lithium'\n",
      " 'lithium' 'lithium' 'lithium' 'lithium' 'lithium' 'lithium' 'lithium'\n",
      " 'lithium' 'lithium' 'lithium' 'lithium' 'lithium' 'lithium' 'lithium']\n",
      "\n",
      "Regressão Logística\n",
      "Valores previstos:  ['control' 'lithium' 'control' 'lithium' 'lithium' 'control' 'control'\n",
      " 'control' 'lithium' 'control' 'control' 'lithium' 'lithium' 'lithium'\n",
      " 'lithium' 'lithium' 'lithium' 'lithium' 'control' 'lithium' 'lithium'\n",
      " 'control' 'control' 'control' 'lithium' 'lithium' 'lithium' 'control'\n",
      " 'lithium' 'lithium' 'lithium' 'lithium' 'control' 'lithium' 'control'\n",
      " 'lithium' 'control' 'lithium' 'control' 'control' 'control' 'control'\n",
      " 'control' 'control' 'lithium' 'control' 'lithium' 'lithium' 'control'\n",
      " 'lithium' 'control' 'control' 'lithium' 'lithium' 'lithium' 'lithium'\n",
      " 'control' 'lithium' 'control' 'lithium' 'lithium' 'lithium' 'control'\n",
      " 'lithium' 'control' 'control' 'lithium' 'lithium' 'lithium' 'control'\n",
      " 'lithium' 'lithium' 'control' 'lithium' 'lithium' 'lithium' 'lithium'\n",
      " 'lithium' 'lithium' 'lithium' 'lithium' 'lithium' 'control' 'lithium']\n",
      "Valores reais:  ['control' 'control' 'control' 'control' 'control' 'control' 'control'\n",
      " 'control' 'control' 'control' 'control' 'control' 'control' 'control'\n",
      " 'control' 'control' 'control' 'control' 'control' 'control' 'control'\n",
      " 'control' 'control' 'control' 'control' 'control' 'control' 'control'\n",
      " 'control' 'control' 'control' 'control' 'control' 'control' 'control'\n",
      " 'control' 'control' 'control' 'control' 'control' 'control' 'control'\n",
      " 'lithium' 'lithium' 'lithium' 'lithium' 'lithium' 'lithium' 'lithium'\n",
      " 'lithium' 'lithium' 'lithium' 'lithium' 'lithium' 'lithium' 'lithium'\n",
      " 'lithium' 'lithium' 'lithium' 'lithium' 'lithium' 'lithium' 'lithium'\n",
      " 'lithium' 'lithium' 'lithium' 'lithium' 'lithium' 'lithium' 'lithium'\n",
      " 'lithium' 'lithium' 'lithium' 'lithium' 'lithium' 'lithium' 'lithium'\n",
      " 'lithium' 'lithium' 'lithium' 'lithium' 'lithium' 'lithium' 'lithium']\n",
      "\n",
      "KNeighbors\n",
      "Valores previstos:\n",
      " ['control' 'control' 'control' 'lithium' 'control' 'control' 'control'\n",
      " 'control' 'control' 'control' 'control' 'lithium' 'control' 'control'\n",
      " 'lithium' 'control' 'control' 'control' 'control' 'control' 'control'\n",
      " 'control' 'control' 'control' 'control' 'control' 'control' 'control'\n",
      " 'control' 'lithium' 'control' 'lithium' 'control' 'control' 'control'\n",
      " 'control' 'control' 'lithium' 'control' 'control' 'control' 'control'\n",
      " 'control' 'control' 'control' 'control' 'control' 'control' 'control'\n",
      " 'control' 'control' 'control' 'lithium' 'lithium' 'control' 'control'\n",
      " 'control' 'control' 'control' 'control' 'control' 'control' 'control'\n",
      " 'control' 'control' 'control' 'lithium' 'lithium' 'lithium' 'control'\n",
      " 'control' 'control' 'control' 'control' 'control' 'control' 'lithium'\n",
      " 'control' 'lithium' 'control' 'control' 'control' 'control' 'control']\n",
      "Valores reais:\n",
      " ['control' 'control' 'control' 'control' 'control' 'control' 'control'\n",
      " 'control' 'control' 'control' 'control' 'control' 'control' 'control'\n",
      " 'control' 'control' 'control' 'control' 'control' 'control' 'control'\n",
      " 'control' 'control' 'control' 'control' 'control' 'control' 'control'\n",
      " 'control' 'control' 'control' 'control' 'control' 'control' 'control'\n",
      " 'control' 'control' 'control' 'control' 'control' 'control' 'control'\n",
      " 'lithium' 'lithium' 'lithium' 'lithium' 'lithium' 'lithium' 'lithium'\n",
      " 'lithium' 'lithium' 'lithium' 'lithium' 'lithium' 'lithium' 'lithium'\n",
      " 'lithium' 'lithium' 'lithium' 'lithium' 'lithium' 'lithium' 'lithium'\n",
      " 'lithium' 'lithium' 'lithium' 'lithium' 'lithium' 'lithium' 'lithium'\n",
      " 'lithium' 'lithium' 'lithium' 'lithium' 'lithium' 'lithium' 'lithium'\n",
      " 'lithium' 'lithium' 'lithium' 'lithium' 'lithium' 'lithium' 'lithium']\n",
      "\n",
      "Percentagem de exemplos corretamente previstos\n",
      "Decision Tree: 0.5476190476190477\n",
      "SVMs: 0.5\n",
      "Naive Bayes: 0.47619047619047616\n",
      "Regressão Logística: 0.5595238095238095\n",
      "KNeighbors: 0.5119047619047619\n"
     ]
    }
   ],
   "source": [
    "classe = \"agent\"\n",
    "# separação dos dados para o treino e para o teste\n",
    "train_in, train_out, test_in, test_out = splitData(classe)\n",
    "\n",
    "# treino do modelo baseado nos seguintes algoritmos\n",
    "# - Árvore de decisão\n",
    "tree_model, tree_pred = tree_model_training(train_in, train_out, test_in, test_out)\n",
    "# - SVM\n",
    "svm_model, svm_pred = svm_model_training(train_in, train_out, test_in, test_out)\n",
    "# - Naive Bayes\n",
    "gnb_model, gnb_pred = gnb_model_training(train_in, train_out, test_in, test_out)\n",
    "# - Regressão Logística\n",
    "logistic_model, logistic_pred = logistic_model_training(train_in, train_out, test_in, test_out)\n",
    "# - KNeighbors\n",
    "knn_model, knn_pred = knn_model_training(train_in, train_out, test_in, test_out)\n",
    "\n",
    "# avaliação dos modelos\n",
    "model_evaluation(test_out, tree_pred, svm_pred, gnb_pred, knn_pred)"
   ]
  },
  {
   "cell_type": "markdown",
   "id": "2299e521-223c-4cfe-ab0f-e9383d16cf1d",
   "metadata": {},
   "source": [
    "A partir dos resultados, pode-se concluir que o modelo de Regressão Logística teve o melhor desempenho para prever o tipo de agente (lithium ou controle) com uma taxa de precisão de 55,71%. Logo de seguida o modelo de Árvore de Decisão com 55,71%. \n",
    "\n",
    "No entanto, estes resultados indicam que os modelos não foram capazes de prever corretamente a resposta de um indivíduo ao lithium. \n",
    "\n",
    "De seguida, vamos usar uma validação cruzada com, 5 partições, para analisar o desempenho dos dois melhores modelos."
   ]
  },
  {
   "cell_type": "code",
   "execution_count": 16,
   "id": "90f614ad-c857-4349-ab05-2a2cacd44d4b",
   "metadata": {},
   "outputs": [
    {
     "name": "stdout",
     "output_type": "stream",
     "text": [
      "LogisticRegression(C=100000.0, solver='liblinear')\n",
      "[0.75       0.75       0.83333333 0.70833333 0.54166667]\n",
      "0.7166666666666667\n",
      "DecisionTreeClassifier()\n",
      "[0.625      0.41666667 0.70833333 0.54166667 0.54166667]\n",
      "0.5666666666666667\n"
     ]
    }
   ],
   "source": [
    "model_cross_val_score(classe, logistic_model, tree_model)"
   ]
  },
  {
   "cell_type": "markdown",
   "id": "a9dd96bb-3fcb-4b46-a848-e4c3afb33172",
   "metadata": {},
   "source": [
    "A partir dos resultados da validação cruzada, podemos concluir que o modelo de Regressão Logística tem um desempenho geral melhor do que o modelo de Árvore de Decisão, com uma média de acurácia de 71.67% comparada com 56.67%.\n",
    "No entanto, as acurácias das previsões para cada partição da validação cruzada variam bastante, com valores que vão desde 41,67% até 70,83%. Isso indica que ambos os modelos precisam ser melhorados para tornarem-se mais precisos e confiáveis. Provavelmente seria necessário obter mais dados, com maior variação."
   ]
  },
  {
   "cell_type": "markdown",
   "id": "ba559718-46ef-47d5-a03a-ec883043178e",
   "metadata": {},
   "source": [
    "### Modelo de previsão baseada no momento da coleta da amostra - classe \"time\""
   ]
  },
  {
   "cell_type": "code",
   "execution_count": 17,
   "id": "e29318bf-031e-4f8b-9e70-5a3226436df7",
   "metadata": {},
   "outputs": [
    {
     "name": "stdout",
     "output_type": "stream",
     "text": [
      "Separação dos dados para treino e teste\n",
      "Input shape: (120, 22164)\n",
      "Train in shape: (36, 22164)\n",
      "Train out shape: (36,)\n",
      "Test in shape: (84, 22164)\n",
      "Test out shape: (84,)\n",
      "\n",
      "Árvore de decisão\n",
      "Valores previstos:  ['baseline' 'baseline' 'baseline' 'baseline' '1 month' 'baseline'\n",
      " 'baseline' '1 month' 'baseline' 'baseline' 'baseline' 'baseline'\n",
      " '1 month' '1 month' 'baseline' '1 month' 'baseline' 'baseline' '1 month'\n",
      " 'baseline' '1 month' 'baseline' '1 month' 'baseline' '1 month' 'baseline'\n",
      " 'baseline' 'baseline' 'baseline' '1 month' '1 month' 'baseline' '1 month'\n",
      " 'baseline' 'baseline' 'baseline' 'baseline' 'baseline' 'baseline'\n",
      " 'baseline' '1 month' 'baseline' 'baseline' '1 month' 'baseline' '1 month'\n",
      " 'baseline' '1 month' 'baseline' 'baseline' 'baseline' 'baseline'\n",
      " 'baseline' 'baseline' '1 month' 'baseline' 'baseline' '1 month'\n",
      " 'baseline' 'baseline' 'baseline' 'baseline' 'baseline' 'baseline'\n",
      " '1 month' 'baseline' 'baseline' '1 month' 'baseline' 'baseline'\n",
      " 'baseline' '1 month' 'baseline' 'baseline' 'baseline' '1 month'\n",
      " 'baseline' '1 month' 'baseline' 'baseline' 'baseline' 'baseline'\n",
      " 'baseline' '1 month']\n",
      "Valores reais:  ['baseline' 'baseline' 'baseline' 'baseline' 'baseline' 'baseline'\n",
      " 'baseline' 'baseline' 'baseline' 'baseline' 'baseline' 'baseline'\n",
      " 'baseline' 'baseline' 'baseline' 'baseline' 'baseline' 'baseline'\n",
      " 'baseline' '1 month' '1 month' '1 month' '1 month' '1 month' '1 month'\n",
      " '1 month' '1 month' '1 month' '1 month' '1 month' '1 month' '1 month'\n",
      " '1 month' '1 month' '1 month' '1 month' '1 month' '1 month' 'baseline'\n",
      " 'baseline' 'baseline' 'baseline' '1 month' '1 month' '1 month' '1 month'\n",
      " 'baseline' 'baseline' 'baseline' 'baseline' 'baseline' 'baseline'\n",
      " 'baseline' 'baseline' 'baseline' 'baseline' 'baseline' 'baseline'\n",
      " '1 month' '1 month' '1 month' '1 month' '1 month' '1 month' '1 month'\n",
      " '1 month' '1 month' '1 month' '1 month' '1 month' 'baseline' 'baseline'\n",
      " 'baseline' 'baseline' 'baseline' 'baseline' 'baseline' '1 month'\n",
      " '1 month' '1 month' '1 month' '1 month' '1 month' '1 month']\n",
      "\n",
      "SVM\n",
      "Valores previstos:  ['baseline' 'baseline' 'baseline' 'baseline' '1 month' 'baseline'\n",
      " 'baseline' 'baseline' 'baseline' 'baseline' 'baseline' '1 month'\n",
      " 'baseline' 'baseline' 'baseline' '1 month' 'baseline' 'baseline'\n",
      " '1 month' 'baseline' 'baseline' 'baseline' '1 month' '1 month' 'baseline'\n",
      " 'baseline' '1 month' 'baseline' 'baseline' '1 month' '1 month' 'baseline'\n",
      " 'baseline' '1 month' 'baseline' 'baseline' '1 month' '1 month' 'baseline'\n",
      " 'baseline' 'baseline' 'baseline' 'baseline' 'baseline' 'baseline'\n",
      " 'baseline' '1 month' 'baseline' 'baseline' '1 month' 'baseline'\n",
      " 'baseline' 'baseline' '1 month' 'baseline' 'baseline' 'baseline'\n",
      " 'baseline' '1 month' 'baseline' 'baseline' 'baseline' 'baseline'\n",
      " 'baseline' 'baseline' 'baseline' 'baseline' 'baseline' 'baseline'\n",
      " 'baseline' 'baseline' 'baseline' 'baseline' 'baseline' 'baseline'\n",
      " 'baseline' '1 month' 'baseline' 'baseline' 'baseline' '1 month'\n",
      " 'baseline' 'baseline' 'baseline']\n",
      "Valores reais:  ['baseline' 'baseline' 'baseline' 'baseline' 'baseline' 'baseline'\n",
      " 'baseline' 'baseline' 'baseline' 'baseline' 'baseline' 'baseline'\n",
      " 'baseline' 'baseline' 'baseline' 'baseline' 'baseline' 'baseline'\n",
      " 'baseline' '1 month' '1 month' '1 month' '1 month' '1 month' '1 month'\n",
      " '1 month' '1 month' '1 month' '1 month' '1 month' '1 month' '1 month'\n",
      " '1 month' '1 month' '1 month' '1 month' '1 month' '1 month' 'baseline'\n",
      " 'baseline' 'baseline' 'baseline' '1 month' '1 month' '1 month' '1 month'\n",
      " 'baseline' 'baseline' 'baseline' 'baseline' 'baseline' 'baseline'\n",
      " 'baseline' 'baseline' 'baseline' 'baseline' 'baseline' 'baseline'\n",
      " '1 month' '1 month' '1 month' '1 month' '1 month' '1 month' '1 month'\n",
      " '1 month' '1 month' '1 month' '1 month' '1 month' 'baseline' 'baseline'\n",
      " 'baseline' 'baseline' 'baseline' 'baseline' 'baseline' '1 month'\n",
      " '1 month' '1 month' '1 month' '1 month' '1 month' '1 month']\n",
      "\n",
      "Naive Bayes\n",
      "Valores previstos:  ['baseline' '1 month' '1 month' '1 month' 'baseline' 'baseline' '1 month'\n",
      " '1 month' '1 month' '1 month' '1 month' 'baseline' '1 month' '1 month'\n",
      " '1 month' 'baseline' 'baseline' 'baseline' 'baseline' '1 month' '1 month'\n",
      " '1 month' 'baseline' 'baseline' 'baseline' '1 month' 'baseline' '1 month'\n",
      " 'baseline' '1 month' 'baseline' '1 month' '1 month' 'baseline' 'baseline'\n",
      " 'baseline' 'baseline' '1 month' 'baseline' '1 month' '1 month' '1 month'\n",
      " 'baseline' '1 month' 'baseline' '1 month' 'baseline' '1 month' '1 month'\n",
      " 'baseline' 'baseline' '1 month' '1 month' 'baseline' 'baseline' '1 month'\n",
      " 'baseline' 'baseline' 'baseline' 'baseline' 'baseline' '1 month'\n",
      " '1 month' '1 month' '1 month' 'baseline' 'baseline' '1 month' 'baseline'\n",
      " 'baseline' 'baseline' 'baseline' '1 month' '1 month' '1 month' 'baseline'\n",
      " 'baseline' 'baseline' 'baseline' '1 month' '1 month' '1 month' 'baseline'\n",
      " 'baseline']\n",
      "Valores reais:  ['baseline' 'baseline' 'baseline' 'baseline' 'baseline' 'baseline'\n",
      " 'baseline' 'baseline' 'baseline' 'baseline' 'baseline' 'baseline'\n",
      " 'baseline' 'baseline' 'baseline' 'baseline' 'baseline' 'baseline'\n",
      " 'baseline' '1 month' '1 month' '1 month' '1 month' '1 month' '1 month'\n",
      " '1 month' '1 month' '1 month' '1 month' '1 month' '1 month' '1 month'\n",
      " '1 month' '1 month' '1 month' '1 month' '1 month' '1 month' 'baseline'\n",
      " 'baseline' 'baseline' 'baseline' '1 month' '1 month' '1 month' '1 month'\n",
      " 'baseline' 'baseline' 'baseline' 'baseline' 'baseline' 'baseline'\n",
      " 'baseline' 'baseline' 'baseline' 'baseline' 'baseline' 'baseline'\n",
      " '1 month' '1 month' '1 month' '1 month' '1 month' '1 month' '1 month'\n",
      " '1 month' '1 month' '1 month' '1 month' '1 month' 'baseline' 'baseline'\n",
      " 'baseline' 'baseline' 'baseline' 'baseline' 'baseline' '1 month'\n",
      " '1 month' '1 month' '1 month' '1 month' '1 month' '1 month']\n",
      "\n",
      "Regressão Logística\n",
      "Valores previstos:  ['baseline' '1 month' '1 month' 'baseline' '1 month' 'baseline' 'baseline'\n",
      " '1 month' '1 month' '1 month' 'baseline' '1 month' 'baseline' '1 month'\n",
      " '1 month' 'baseline' 'baseline' 'baseline' 'baseline' 'baseline'\n",
      " '1 month' '1 month' '1 month' 'baseline' 'baseline' '1 month' '1 month'\n",
      " 'baseline' 'baseline' '1 month' '1 month' 'baseline' '1 month' 'baseline'\n",
      " 'baseline' 'baseline' 'baseline' '1 month' 'baseline' '1 month'\n",
      " 'baseline' '1 month' 'baseline' '1 month' 'baseline' '1 month' 'baseline'\n",
      " '1 month' 'baseline' 'baseline' 'baseline' '1 month' '1 month' 'baseline'\n",
      " 'baseline' '1 month' '1 month' 'baseline' '1 month' 'baseline' 'baseline'\n",
      " 'baseline' '1 month' '1 month' '1 month' '1 month' 'baseline' '1 month'\n",
      " '1 month' 'baseline' 'baseline' 'baseline' '1 month' '1 month' '1 month'\n",
      " 'baseline' 'baseline' 'baseline' 'baseline' '1 month' '1 month' '1 month'\n",
      " 'baseline' 'baseline']\n",
      "Valores reais:  ['baseline' 'baseline' 'baseline' 'baseline' 'baseline' 'baseline'\n",
      " 'baseline' 'baseline' 'baseline' 'baseline' 'baseline' 'baseline'\n",
      " 'baseline' 'baseline' 'baseline' 'baseline' 'baseline' 'baseline'\n",
      " 'baseline' '1 month' '1 month' '1 month' '1 month' '1 month' '1 month'\n",
      " '1 month' '1 month' '1 month' '1 month' '1 month' '1 month' '1 month'\n",
      " '1 month' '1 month' '1 month' '1 month' '1 month' '1 month' 'baseline'\n",
      " 'baseline' 'baseline' 'baseline' '1 month' '1 month' '1 month' '1 month'\n",
      " 'baseline' 'baseline' 'baseline' 'baseline' 'baseline' 'baseline'\n",
      " 'baseline' 'baseline' 'baseline' 'baseline' 'baseline' 'baseline'\n",
      " '1 month' '1 month' '1 month' '1 month' '1 month' '1 month' '1 month'\n",
      " '1 month' '1 month' '1 month' '1 month' '1 month' 'baseline' 'baseline'\n",
      " 'baseline' 'baseline' 'baseline' 'baseline' 'baseline' '1 month'\n",
      " '1 month' '1 month' '1 month' '1 month' '1 month' '1 month']\n",
      "\n",
      "KNeighbors\n",
      "Valores previstos:\n",
      " ['baseline' '1 month' '1 month' '1 month' '1 month' '1 month' '1 month'\n",
      " '1 month' '1 month' '1 month' '1 month' '1 month' '1 month' '1 month'\n",
      " '1 month' 'baseline' 'baseline' '1 month' '1 month' '1 month' '1 month'\n",
      " '1 month' '1 month' 'baseline' '1 month' '1 month' '1 month' '1 month'\n",
      " 'baseline' 'baseline' 'baseline' 'baseline' '1 month' '1 month' '1 month'\n",
      " '1 month' '1 month' '1 month' 'baseline' '1 month' '1 month' '1 month'\n",
      " 'baseline' '1 month' '1 month' '1 month' '1 month' '1 month' '1 month'\n",
      " 'baseline' 'baseline' '1 month' '1 month' '1 month' 'baseline' 'baseline'\n",
      " '1 month' '1 month' '1 month' '1 month' 'baseline' '1 month' '1 month'\n",
      " '1 month' '1 month' 'baseline' '1 month' '1 month' '1 month' '1 month'\n",
      " '1 month' '1 month' '1 month' '1 month' '1 month' '1 month' '1 month'\n",
      " '1 month' 'baseline' '1 month' '1 month' '1 month' '1 month' 'baseline']\n",
      "Valores reais:\n",
      " ['baseline' 'baseline' 'baseline' 'baseline' 'baseline' 'baseline'\n",
      " 'baseline' 'baseline' 'baseline' 'baseline' 'baseline' 'baseline'\n",
      " 'baseline' 'baseline' 'baseline' 'baseline' 'baseline' 'baseline'\n",
      " 'baseline' '1 month' '1 month' '1 month' '1 month' '1 month' '1 month'\n",
      " '1 month' '1 month' '1 month' '1 month' '1 month' '1 month' '1 month'\n",
      " '1 month' '1 month' '1 month' '1 month' '1 month' '1 month' 'baseline'\n",
      " 'baseline' 'baseline' 'baseline' '1 month' '1 month' '1 month' '1 month'\n",
      " 'baseline' 'baseline' 'baseline' 'baseline' 'baseline' 'baseline'\n",
      " 'baseline' 'baseline' 'baseline' 'baseline' 'baseline' 'baseline'\n",
      " '1 month' '1 month' '1 month' '1 month' '1 month' '1 month' '1 month'\n",
      " '1 month' '1 month' '1 month' '1 month' '1 month' 'baseline' 'baseline'\n",
      " 'baseline' 'baseline' 'baseline' 'baseline' 'baseline' '1 month'\n",
      " '1 month' '1 month' '1 month' '1 month' '1 month' '1 month']\n",
      "\n",
      "Percentagem de exemplos corretamente previstos\n",
      "Decision Tree: 0.5\n",
      "SVMs: 0.5238095238095238\n",
      "Naive Bayes: 0.4642857142857143\n",
      "Regressão Logística: 0.5238095238095238\n",
      "KNeighbors: 0.47619047619047616\n"
     ]
    }
   ],
   "source": [
    "classe = \"time\"\n",
    "# separação dos dados para o treino e para o teste\n",
    "train_in, train_out, test_in, test_out = splitData(classe)\n",
    "\n",
    "# treino do modelo baseado nos seguintes algoritmos\n",
    "# - Árvore de decisão\n",
    "tree_model, tree_pred = tree_model_training(train_in, train_out, test_in, test_out)\n",
    "# - SVM\n",
    "svm_model, svm_pred = svm_model_training(train_in, train_out, test_in, test_out)\n",
    "# - Naive Bayes\n",
    "gnb_model, gnb_pred = gnb_model_training(train_in, train_out, test_in, test_out)\n",
    "# - Regressão Logística\n",
    "logistic_model, logistic_pred = logistic_model_training(train_in, train_out, test_in, test_out)\n",
    "# - KNeighbors\n",
    "knn_model, knn_pred = knn_model_training(train_in, train_out, test_in, test_out)\n",
    "\n",
    "# avaliação dos modelos\n",
    "model_evaluation(test_out, tree_pred, svm_pred, gnb_pred, knn_pred)"
   ]
  },
  {
   "cell_type": "markdown",
   "id": "25c7a3ea-ead6-4860-9eab-8cf709c055f4",
   "metadata": {},
   "source": [
    "Com base nos resultados dos modelos de previsão, podemos concluir que nenhum dos modelos teve desempenho consistentemente elevado na previsão do momento da coleta da amostra. Embora o SVM e Regressão Logística tenham tido o melhor desempenho satisfatório com 52.38% de exemplos corretamente previstos.\n",
    "\n",
    "De seguida vamos usar uma validação cruzada com, 5 partições, para analisar o desempenho de dois dos melhores modelos."
   ]
  },
  {
   "cell_type": "code",
   "execution_count": 20,
   "id": "9f64a36a-dd90-44dd-b5f9-a586dc9ec0fd",
   "metadata": {},
   "outputs": [
    {
     "name": "stdout",
     "output_type": "stream",
     "text": [
      "SVC(C=100.0, gamma=0.001)\n",
      "[0.5        0.45833333 0.58333333 0.5        0.625     ]\n",
      "0.5333333333333333\n",
      "LogisticRegression(C=100000.0, solver='liblinear')\n",
      "[0.625      0.45833333 0.58333333 0.70833333 0.625     ]\n",
      "0.6\n"
     ]
    }
   ],
   "source": [
    "model_cross_val_score(classe, svm_model, logistic_model)"
   ]
  },
  {
   "cell_type": "markdown",
   "id": "c1a222b8-a610-481b-9795-2268e12abeda",
   "metadata": {},
   "source": [
    "A partir dos resultados da validação cruzada, podemos concluir que o melhor modelo para prever a resposta de um indivíduo a um determinado tratamento é o modelo de Regressão Logística, com uma acurácia média de aproximadamente 60%. Já o modelo SVC tem uma acurácia média de aproximadamente 53,33%. "
   ]
  },
  {
   "cell_type": "markdown",
   "id": "858b01d4-31d9-4cdb-9e97-166cc10017ff",
   "metadata": {},
   "source": [
    "## Conclusão\n",
    "A partir dos resultados apresentados, podemos concluir que a classe \"other\" teve o melhor desempenho em relação às outras classes, tendo o melhor modelo apresentado uma acurácia média de aproximadamente 79%.\n",
    "\n",
    "De uma forma geral, podemos concluir que os modelos apresentaram desempenho variavel para as diferentes classes. Alguns modelos, como a regressão logística e a árvore de decisão, tiveram desempenho aceitável para a classe \"agent\", enquanto outros modelos, como o Naive Bayes e a SVM, apresentaram melhor desempenho para a classe \"other\". Para a classe \"time\", o desempenho dos modelos foi moderado. \n",
    "\n",
    "No entanto, é importante referir que estes resultados são baseados numa única amostra de dados com poucos dados e que podem não representar a verdadeira performance dos modelos com dados futuros."
   ]
  },
  {
   "cell_type": "code",
   "execution_count": null,
   "id": "bac92e9b-dd6c-48ca-9cb3-46919f33f252",
   "metadata": {},
   "outputs": [],
   "source": []
  }
 ],
 "metadata": {
  "kernelspec": {
   "display_name": "Python 3 (ipykernel)",
   "language": "python",
   "name": "python3"
  },
  "language_info": {
   "codemirror_mode": {
    "name": "ipython",
    "version": 3
   },
   "file_extension": ".py",
   "mimetype": "text/x-python",
   "name": "python",
   "nbconvert_exporter": "python",
   "pygments_lexer": "ipython3",
   "version": "3.10.6"
  }
 },
 "nbformat": 4,
 "nbformat_minor": 5
}
