{
 "cells": [
  {
   "cell_type": "markdown",
   "id": "dfbd5c97-b9a0-48a8-9ae2-d25f350e3117",
   "metadata": {},
   "source": [
    "# Bipolar disorder and response to lithium: blood\n",
    "\n",
    "Dataset Files: \n",
    "* gds5393.csv \n",
    "* meta-gds5393.csv\n",
    "\n",
    "**Introdução**\n",
    "\n",
    "Bipolar disorder is a mental condition characterized by highly variable mood episodes, with periods of euphoria or mania (known as manic episodes) alternating with periods of deep depression (known as depressive episodes). Treatment for bipolar disorder usually includes therapy and medication.\n",
    "\n",
    "One of the most common medications used to treat bipolar disorder is lithium. Lithium is a mineral that acts as a mood stabilizer and is effective in preventing manic and depressive episodes in people with bipolar disorder. It works by helping to balance the levels of certain chemicals in the brain called neurotransmitters, which are responsible for transmitting information between brain cells.\n",
    "\n",
    "\n",
    "**Summary** \n",
    "\n",
    "Analysis of peripheral blood from patients with bipolar disorder before and 1 month after lithium treatment. Response of patients to lithium assessed after 6 months. Results identify a gene expression signature for the response to lithium treatment in patients with bipolar disorder.\n",
    "\n",
    "This particular dataset, with 48107 rows and 120 columns, contains gene expression data from blood samples from patients with bipolar disorder and patients without bipolar disorder, some of whom were receiving lithium treatment and some who were not.\n",
    "The file meta-gds5393 contains class labels.\n"
   ]
  },
  {
   "cell_type": "markdown",
   "id": "59562678-a1c2-410a-a706-8e0ef12ec94c",
   "metadata": {
    "tags": []
   },
   "source": [
    "**Carregamento e analise dos dados e metadados do dataset**"
   ]
  },
  {
   "cell_type": "code",
   "execution_count": 1,
   "id": "b4f4a033-95b1-4a4d-80db-2da588029f95",
   "metadata": {},
   "outputs": [],
   "source": [
    "# Importar bibliotecas necessárias para o processamento\n",
    "import pandas as pd\n",
    "import numpy as np\n",
    "%matplotlib inline\n",
    "import matplotlib.pyplot as plt\n",
    "\n",
    "from sklearn import preprocessing\n",
    "from scipy.cluster.hierarchy import dendrogram, linkage\n",
    "from sklearn.metrics import accuracy_score\n",
    "\n",
    "# Ler dados usando a lib pandas\n",
    "data = pd.read_csv(\"gds5393.csv\", sep=',', index_col = 0)\n",
    "meta = pd.read_csv(\"meta-gds5393.csv\", sep=',', index_col = 0)"
   ]
  },
  {
   "cell_type": "markdown",
   "id": "74caec21-2ca6-4217-92c4-80ef4d4adef4",
   "metadata": {},
   "source": [
    "#### Data Preparation"
   ]
  },
  {
   "cell_type": "code",
   "execution_count": 2,
   "id": "7198c8ec-fcda-4081-9c00-c956d8eeaea8",
   "metadata": {},
   "outputs": [],
   "source": [
    "# limpar todos os dados nulos, usando o parâmetro inplace = True para alterar directamente na variável data\n",
    "data.dropna(inplace = True)"
   ]
  },
  {
   "cell_type": "code",
   "execution_count": 3,
   "id": "e25bc9ae-b63b-4264-9cbd-00fc1f4445c5",
   "metadata": {},
   "outputs": [],
   "source": [
    "# fazer a transporta para termos os dados na forma de uma matriz genes x amostras\n",
    "data = data.transpose()"
   ]
  },
  {
   "cell_type": "code",
   "execution_count": 4,
   "id": "cd02eeb3-de99-4701-8033-dd442a48dc97",
   "metadata": {},
   "outputs": [
    {
     "data": {
      "text/plain": [
       "(120, 47323)"
      ]
     },
     "execution_count": 4,
     "metadata": {},
     "output_type": "execute_result"
    }
   ],
   "source": [
    "# Dimensao dos dados\n",
    "data.values.shape"
   ]
  },
  {
   "cell_type": "code",
   "execution_count": 5,
   "id": "1952ef84-4fa5-4446-a768-43022cf37df8",
   "metadata": {},
   "outputs": [],
   "source": [
    "# pre-processamento: standardizacao dos dados\n",
    "input_sc = preprocessing.scale(data)\n",
    "\n",
    "# classe para a previsão\n",
    "classe = \"other\"\n",
    "meta_values = meta[classe].values"
   ]
  },
  {
   "cell_type": "markdown",
   "id": "c419ead0-ff43-4684-81c2-b49adc3e2df0",
   "metadata": {},
   "source": [
    "### Modelling"
   ]
  },
  {
   "cell_type": "markdown",
   "id": "59b19868-9e77-4bfa-93c5-486e42ffbb1e",
   "metadata": {},
   "source": [
    "**Aprendizagem supervisionada**"
   ]
  },
  {
   "cell_type": "code",
   "execution_count": 6,
   "id": "c796f709-f1c1-471c-ae3f-92c74d2f5926",
   "metadata": {},
   "outputs": [
    {
     "name": "stdout",
     "output_type": "stream",
     "text": [
      "40\n",
      "Input shape: (120, 47323)\n",
      "Train in shape: (80, 47323)\n",
      "Train out shape: (80,)\n",
      "Test in shape: (40, 47323)\n",
      "Test out shape: (40,)\n"
     ]
    }
   ],
   "source": [
    "# Criação modelos supervisionados de aprendizagem para prever a classe\n",
    "\n",
    "# calcular o número de posições para treino e teste, 70% dos dados para treino e 30% para testar o modelo\n",
    "num_tst = int(data.shape[0] / 3)\n",
    "print(num_tst)\n",
    "\n",
    "indices = np.random.permutation(data.shape[0])\n",
    "train_in = input_sc[indices[:-num_tst]]\n",
    "train_out = meta_values[indices[:-num_tst]]\n",
    "test_in = input_sc[indices[-num_tst:]]\n",
    "test_out = meta_values[indices[-num_tst:]]\n",
    "\n",
    "print(\"Input shape:\", input_sc.shape)\n",
    "print(\"Train in shape:\", train_in.shape)\n",
    "print(\"Train out shape:\", train_out.shape)\n",
    "print(\"Test in shape:\", test_in.shape)\n",
    "print(\"Test out shape:\", test_out.shape)"
   ]
  },
  {
   "cell_type": "markdown",
   "id": "6b2f7dfb-86c1-423d-83db-f6192099100c",
   "metadata": {},
   "source": [
    "**Árvore de decisão**"
   ]
  },
  {
   "cell_type": "code",
   "execution_count": 7,
   "id": "f4a79bf7-debb-46c7-9a7a-47e7f95f7abe",
   "metadata": {},
   "outputs": [
    {
     "name": "stdout",
     "output_type": "stream",
     "text": [
      "Valores previstos:  ['non-responder' 'non-responder' 'responder' 'non-responder'\n",
      " 'non-responder' 'responder' 'non-responder' 'responder' 'non-responder'\n",
      " 'non-responder' 'non-responder' 'non-responder' 'non-responder'\n",
      " 'non-responder' 'responder' 'non-responder' 'non-responder'\n",
      " 'non-responder' 'non-responder' 'responder' 'non-responder'\n",
      " 'non-responder' 'non-responder' 'responder' 'non-responder'\n",
      " 'non-responder' 'non-responder' 'non-responder' 'responder'\n",
      " 'non-responder' 'non-responder' 'non-responder' 'responder'\n",
      " 'non-responder' 'non-responder' 'non-responder' 'non-responder'\n",
      " 'non-responder' 'non-responder' 'non-responder']\n",
      "Valores reais:  ['non-responder' 'non-responder' 'non-responder' 'non-responder'\n",
      " 'responder' 'responder' 'non-responder' 'non-responder' 'non-responder'\n",
      " 'non-responder' 'responder' 'non-responder' 'responder' 'non-responder'\n",
      " 'non-responder' 'responder' 'non-responder' 'non-responder'\n",
      " 'non-responder' 'non-responder' 'non-responder' 'non-responder'\n",
      " 'non-responder' 'non-responder' 'non-responder' 'non-responder'\n",
      " 'responder' 'responder' 'non-responder' 'non-responder' 'non-responder'\n",
      " 'responder' 'non-responder' 'responder' 'non-responder' 'non-responder'\n",
      " 'responder' 'non-responder' 'responder' 'non-responder']\n"
     ]
    }
   ],
   "source": [
    "from sklearn import tree\n",
    "\n",
    "tree_model = tree.DecisionTreeClassifier()\n",
    "tree_model = tree_model.fit(train_in, train_out)\n",
    "tree_pred = tree_model.predict(test_in)\n",
    "\n",
    "print(\"Valores previstos: \", tree_pred)\n",
    "print(\"Valores reais: \" , test_out)"
   ]
  },
  {
   "cell_type": "markdown",
   "id": "def96ea0-e510-4ad1-bd0b-7e30eeea0db7",
   "metadata": {},
   "source": [
    "**SVMs**"
   ]
  },
  {
   "cell_type": "code",
   "execution_count": 8,
   "id": "7753a40c-a1f7-4bd4-9404-df07b4a95692",
   "metadata": {},
   "outputs": [
    {
     "name": "stdout",
     "output_type": "stream",
     "text": [
      "Valores previstos:  ['non-responder' 'non-responder' 'non-responder' 'non-responder'\n",
      " 'non-responder' 'non-responder' 'non-responder' 'non-responder'\n",
      " 'non-responder' 'non-responder' 'non-responder' 'non-responder'\n",
      " 'non-responder' 'non-responder' 'non-responder' 'non-responder'\n",
      " 'non-responder' 'non-responder' 'non-responder' 'non-responder'\n",
      " 'non-responder' 'non-responder' 'non-responder' 'non-responder'\n",
      " 'non-responder' 'non-responder' 'non-responder' 'non-responder'\n",
      " 'non-responder' 'non-responder' 'non-responder' 'non-responder'\n",
      " 'non-responder' 'non-responder' 'non-responder' 'non-responder'\n",
      " 'non-responder' 'non-responder' 'non-responder' 'non-responder']\n",
      "Valores reais:  ['non-responder' 'non-responder' 'non-responder' 'non-responder'\n",
      " 'responder' 'responder' 'non-responder' 'non-responder' 'non-responder'\n",
      " 'non-responder' 'responder' 'non-responder' 'responder' 'non-responder'\n",
      " 'non-responder' 'responder' 'non-responder' 'non-responder'\n",
      " 'non-responder' 'non-responder' 'non-responder' 'non-responder'\n",
      " 'non-responder' 'non-responder' 'non-responder' 'non-responder'\n",
      " 'responder' 'responder' 'non-responder' 'non-responder' 'non-responder'\n",
      " 'responder' 'non-responder' 'responder' 'non-responder' 'non-responder'\n",
      " 'responder' 'non-responder' 'responder' 'non-responder']\n"
     ]
    }
   ],
   "source": [
    "from sklearn import svm\n",
    "\n",
    "clf = svm.SVC(gamma=0.001, C=100.)\n",
    "svm_model = clf.fit(train_in, train_out)\n",
    "svm_pred = clf.predict(test_in)\n",
    "\n",
    "print(\"Valores previstos: \" , svm_pred)\n",
    "print(\"Valores reais: \" , test_out)"
   ]
  },
  {
   "cell_type": "markdown",
   "id": "34adc9c4-e8c1-46f3-b769-e3549e666471",
   "metadata": {},
   "source": [
    "**Naive Bayes**"
   ]
  },
  {
   "cell_type": "code",
   "execution_count": 9,
   "id": "f5989307-25d5-4fa5-a244-d3a4fcc94522",
   "metadata": {},
   "outputs": [
    {
     "name": "stdout",
     "output_type": "stream",
     "text": [
      "Valores previstos:  ['non-responder' 'non-responder' 'non-responder' 'non-responder'\n",
      " 'non-responder' 'non-responder' 'non-responder' 'non-responder'\n",
      " 'non-responder' 'non-responder' 'non-responder' 'non-responder'\n",
      " 'non-responder' 'non-responder' 'non-responder' 'non-responder'\n",
      " 'non-responder' 'non-responder' 'non-responder' 'non-responder'\n",
      " 'non-responder' 'non-responder' 'non-responder' 'non-responder'\n",
      " 'non-responder' 'non-responder' 'non-responder' 'non-responder'\n",
      " 'non-responder' 'non-responder' 'non-responder' 'non-responder'\n",
      " 'non-responder' 'non-responder' 'non-responder' 'non-responder'\n",
      " 'non-responder' 'non-responder' 'non-responder' 'non-responder']\n",
      "Valores reais:  ['non-responder' 'non-responder' 'non-responder' 'non-responder'\n",
      " 'responder' 'responder' 'non-responder' 'non-responder' 'non-responder'\n",
      " 'non-responder' 'responder' 'non-responder' 'responder' 'non-responder'\n",
      " 'non-responder' 'responder' 'non-responder' 'non-responder'\n",
      " 'non-responder' 'non-responder' 'non-responder' 'non-responder'\n",
      " 'non-responder' 'non-responder' 'non-responder' 'non-responder'\n",
      " 'responder' 'responder' 'non-responder' 'non-responder' 'non-responder'\n",
      " 'responder' 'non-responder' 'responder' 'non-responder' 'non-responder'\n",
      " 'responder' 'non-responder' 'responder' 'non-responder']\n"
     ]
    }
   ],
   "source": [
    "from sklearn.naive_bayes import GaussianNB\n",
    "\n",
    "gnb_model = GaussianNB()\n",
    "gnb_model = gnb_model.fit(train_in, train_out)\n",
    "gnb_pred = gnb_model.predict(test_in)\n",
    "\n",
    "print(\"Valores previstos: \" , gnb_pred)\n",
    "print(\"Valores reais: \" , test_out)"
   ]
  },
  {
   "cell_type": "markdown",
   "id": "82feef4a-5b37-40f2-a2b5-cfa377f09704",
   "metadata": {},
   "source": [
    "**Regressão Logística**"
   ]
  },
  {
   "cell_type": "code",
   "execution_count": 10,
   "id": "3df370f0-0653-429b-96e4-dcb71d6c8c7f",
   "metadata": {},
   "outputs": [
    {
     "name": "stdout",
     "output_type": "stream",
     "text": [
      "Valores previstos:  ['responder' 'responder' 'responder' 'responder' 'responder' 'responder'\n",
      " 'responder' 'responder' 'responder' 'responder' 'responder' 'responder'\n",
      " 'responder' 'responder' 'responder' 'responder' 'responder' 'responder'\n",
      " 'responder' 'responder' 'responder' 'responder' 'responder' 'responder'\n",
      " 'responder' 'responder' 'responder' 'responder' 'responder' 'responder'\n",
      " 'responder' 'responder' 'responder' 'responder' 'responder' 'responder'\n",
      " 'responder' 'responder' 'responder' 'responder']\n",
      "Valores reais:  ['non-responder' 'non-responder' 'non-responder' 'non-responder'\n",
      " 'responder' 'responder' 'non-responder' 'non-responder' 'non-responder'\n",
      " 'non-responder' 'responder' 'non-responder' 'responder' 'non-responder'\n",
      " 'non-responder' 'responder' 'non-responder' 'non-responder'\n",
      " 'non-responder' 'non-responder' 'non-responder' 'non-responder'\n",
      " 'non-responder' 'non-responder' 'non-responder' 'non-responder'\n",
      " 'responder' 'responder' 'non-responder' 'non-responder' 'non-responder'\n",
      " 'responder' 'non-responder' 'responder' 'non-responder' 'non-responder'\n",
      " 'responder' 'non-responder' 'responder' 'non-responder']\n"
     ]
    }
   ],
   "source": [
    "from sklearn import linear_model\n",
    "\n",
    "logistic_model = linear_model.LogisticRegression(C=1e5, solver = \"liblinear\", multi_class = \"auto\")\n",
    "logistic_model = logistic_model.fit(train_in, train_out)\n",
    "logistic_pred =  logistic_model.predict(test_in)\n",
    "\n",
    "print(\"Valores previstos: \" , logistic_pred)\n",
    "print(\"Valores reais: \" , test_out)"
   ]
  },
  {
   "cell_type": "markdown",
   "id": "afa38dad-aedb-41ec-b3ae-70050c70f922",
   "metadata": {},
   "source": [
    "**KNeighbors - Método dos k vizinhos mais próximos**"
   ]
  },
  {
   "cell_type": "code",
   "execution_count": 11,
   "id": "96ca1b10-2b33-4960-93d5-2f7467c3a952",
   "metadata": {},
   "outputs": [
    {
     "name": "stdout",
     "output_type": "stream",
     "text": [
      "Valores previstos:\n",
      " ['non-responder' 'non-responder' 'non-responder' 'non-responder'\n",
      " 'non-responder' 'non-responder' 'non-responder' 'non-responder'\n",
      " 'responder' 'non-responder' 'responder' 'non-responder' 'non-responder'\n",
      " 'non-responder' 'non-responder' 'non-responder' 'non-responder'\n",
      " 'non-responder' 'non-responder' 'non-responder' 'non-responder'\n",
      " 'non-responder' 'non-responder' 'non-responder' 'non-responder'\n",
      " 'non-responder' 'non-responder' 'non-responder' 'non-responder'\n",
      " 'non-responder' 'non-responder' 'non-responder' 'responder'\n",
      " 'non-responder' 'non-responder' 'responder' 'non-responder'\n",
      " 'non-responder' 'non-responder' 'non-responder']\n",
      "Valores reais:\n",
      " ['non-responder' 'non-responder' 'non-responder' 'non-responder'\n",
      " 'responder' 'responder' 'non-responder' 'non-responder' 'non-responder'\n",
      " 'non-responder' 'responder' 'non-responder' 'responder' 'non-responder'\n",
      " 'non-responder' 'responder' 'non-responder' 'non-responder'\n",
      " 'non-responder' 'non-responder' 'non-responder' 'non-responder'\n",
      " 'non-responder' 'non-responder' 'non-responder' 'non-responder'\n",
      " 'responder' 'responder' 'non-responder' 'non-responder' 'non-responder'\n",
      " 'responder' 'non-responder' 'responder' 'non-responder' 'non-responder'\n",
      " 'responder' 'non-responder' 'responder' 'non-responder']\n"
     ]
    }
   ],
   "source": [
    "from sklearn.neighbors import KNeighborsClassifier\n",
    "\n",
    "knn_model = KNeighborsClassifier()\n",
    "knn_model = knn_model.fit(train_in, train_out)\n",
    "knn_pred = knn_model.predict(test_in)\n",
    "\n",
    "print(\"Valores previstos:\\n\" , knn_pred)\n",
    "print(\"Valores reais:\\n\" , test_out)"
   ]
  },
  {
   "cell_type": "markdown",
   "id": "1652b0e3-3730-4865-b845-61baf5f398b6",
   "metadata": {},
   "source": [
    "### Evaluation"
   ]
  },
  {
   "cell_type": "code",
   "execution_count": 12,
   "id": "21db11fe-ac47-450d-9363-d72e3ad6534d",
   "metadata": {},
   "outputs": [
    {
     "name": "stdout",
     "output_type": "stream",
     "text": [
      "Precentagem de exemplos corretamente previstos:\n",
      "\n",
      "Decision Tree: 0.575\n",
      "SVMs: 0.725\n",
      "Naive Bayes: 0.725\n",
      "Regressão Logística: 0.275\n",
      "KNeighbors: 0.675\n"
     ]
    }
   ],
   "source": [
    "print(\"Precentagem de exemplos corretamente previstos:\\n\")\n",
    "print(\"Decision Tree:\", accuracy_score(test_out, tree_pred))\n",
    "print(\"SVMs:\", accuracy_score(test_out, svm_pred))\n",
    "print(\"Naive Bayes:\", accuracy_score(test_out, gnb_pred))\n",
    "print(\"Regressão Logística:\", accuracy_score(test_out, logistic_pred))\n",
    "print(\"KNeighbors:\", accuracy_score(test_out, knn_pred))"
   ]
  },
  {
   "cell_type": "markdown",
   "id": "4df442a5-9f60-45c5-bcc0-9f544c0d56d8",
   "metadata": {},
   "source": [
    "Analisando os resultados obtidos em cada modelo, verificamos que os dois modelos com melhor desempenho foram:\n",
    "* Naive Bayes\n",
    "* SVMs\n",
    "De seguida, vamos usar uma validação cruzada com, 5 partições, para analisar o desempenho deste dois modelos"
   ]
  },
  {
   "cell_type": "code",
   "execution_count": 13,
   "id": "2b0838a4-a542-4468-8987-6982251a1115",
   "metadata": {},
   "outputs": [
    {
     "name": "stdout",
     "output_type": "stream",
     "text": [
      "Naive Bayes\n",
      "[0.875      0.83333333 0.79166667 0.79166667 0.79166667]\n",
      "0.8166666666666667\n",
      "SVMs\n",
      "[0.79166667 0.79166667 0.79166667 0.79166667 0.75      ]\n",
      "0.7833333333333333\n"
     ]
    }
   ],
   "source": [
    "from sklearn.model_selection import cross_val_score\n",
    "\n",
    "print(\"Naive Bayes\")\n",
    "scores = cross_val_score(gnb_model, input_sc, meta_values, cv = 5)\n",
    "print(scores)\n",
    "print(scores.mean())\n",
    "\n",
    "print(\"SVMs\")\n",
    "scores = cross_val_score(svm_model, input_sc, meta_values, cv = 5)\n",
    "print(scores)\n",
    "print(scores.mean())"
   ]
  },
  {
   "cell_type": "markdown",
   "id": "ee42f607-a5bf-4584-8e5a-e829e1458892",
   "metadata": {},
   "source": []
  }
 ],
 "metadata": {
  "kernelspec": {
   "display_name": "Python 3 (ipykernel)",
   "language": "python",
   "name": "python3"
  },
  "language_info": {
   "codemirror_mode": {
    "name": "ipython",
    "version": 3
   },
   "file_extension": ".py",
   "mimetype": "text/x-python",
   "name": "python",
   "nbconvert_exporter": "python",
   "pygments_lexer": "ipython3",
   "version": "3.10.6"
  }
 },
 "nbformat": 4,
 "nbformat_minor": 5
}
